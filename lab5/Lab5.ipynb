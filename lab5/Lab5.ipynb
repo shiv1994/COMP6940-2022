{
 "cells": [
  {
   "cell_type": "markdown",
   "id": "5ca42947",
   "metadata": {},
   "source": [
    "### Natural Language Processing"
   ]
  },
  {
   "cell_type": "markdown",
   "id": "31d73a2e",
   "metadata": {},
   "source": [
    "- Natural Language Processing or NLP for short refers to a branch of Computer Science (to be more specific it is a branch of Artificial Intelligence or AI) where computers can understand text or spoken word in the same way humans can.\n",
    "- NLP combines computational linguistics—rule-based modeling of human language—with statistical, machine learning, and deep learning models. Together, these technologies enable computers to process human language in the form of text or voice data and to ‘understand’ its full meaning, complete with the speaker or writer’s intent and sentiment.\n",
    "- We will make use of the following libraries:\n",
    "    - **sklearn**\n",
    "    - **nltk**\n",
    "- Real world applcations include:\n",
    "    - machine translation\n",
    "    - spam detection\n",
    "    - text summarisation\n",
    "    - chatbots"
   ]
  },
  {
   "cell_type": "code",
   "execution_count": 1,
   "id": "17c3ad5b",
   "metadata": {},
   "outputs": [],
   "source": [
    "import pandas as pd\n",
    "import numpy as np\n",
    "import matplotlib.pyplot as plt\n",
    "import seaborn as sns\n",
    "import string\n",
    "from string import punctuation\n",
    "from itertools import chain\n",
    "\n",
    "from sklearn.model_selection import train_test_split\n",
    "from sklearn.metrics import recall_score, f1_score, accuracy_score\n",
    "\n",
    "from sklearn.feature_extraction.text import CountVectorizer\n",
    "from sklearn.feature_extraction.text import TfidfVectorizer\n",
    "from sklearn.linear_model import LogisticRegression\n",
    "from sklearn.decomposition import NMF, LatentDirichletAllocation, TruncatedSVD\n",
    "from sklearn.feature_selection import SelectPercentile, chi2, f_regression\n",
    "\n",
    "from sklearn import svm\n",
    "from sklearn.utils import shuffle\n",
    "\n",
    "import nltk\n",
    "from nltk.corpus import stopwords\n",
    "from nltk.stem import WordNetLemmatizer\n",
    "from nltk import ngrams"
   ]
  },
  {
   "cell_type": "markdown",
   "id": "024f7082",
   "metadata": {},
   "source": [
    "**CountVectorizer** - Count Vector is a matrix notation of the dataset in which every row represents a document from the corpus, every column represents a term from the corpus, and every cell represents the frequency count of a particular term in a particular document."
   ]
  },
  {
   "cell_type": "code",
   "execution_count": 2,
   "id": "09b3c5ee",
   "metadata": {},
   "outputs": [
    {
     "name": "stdout",
     "output_type": "stream",
     "text": [
      "Using count vectorizer\n",
      "   apple  banana  orange\n",
      "0      2       0       2\n",
      "1      2       2       0\n",
      "2      2       4       0\n",
      "3      0       4       2\n",
      "4      1       4       1\n"
     ]
    }
   ],
   "source": [
    "corpus = ['Apple Orange Orange Apple',\\\n",
    "  'Apple Banana Apple Banana',\\\n",
    "  'Banana Apple Banana Banana Banana Apple',\\\n",
    "  'Banana Orange Banana Banana Orange Banana',\\\n",
    "  'Banana Apple Banana Banana Orange Banana']\n",
    "\n",
    "print(\"Using count vectorizer\")\n",
    "tf_vectorizer = CountVectorizer()\n",
    "tf = tf_vectorizer.fit_transform(corpus)\n",
    "print(pd.DataFrame(tf.A, columns=tf_vectorizer.get_feature_names()).to_string())"
   ]
  },
  {
   "cell_type": "markdown",
   "id": "eaccd2cc",
   "metadata": {},
   "source": [
    "**TfidfVectorizer** - TF-IDF score represents the relative importance of a term in the document and the entire corpus. TF-IDF score is composed by two terms: the first computes the normalized Term Frequency (TF), the second term is the Inverse Document Frequency (IDF), computed as the logarithm of the number of the documents in the corpus divided by the number of documents where the specific term appears."
   ]
  },
  {
   "cell_type": "markdown",
   "id": "912ece40",
   "metadata": {},
   "source": [
    "- t = term which is being considered\n",
    "- n = total number of documents available\n",
    "- tf(t) = No. of times term ‘t’ occurs in a document\n",
    "- idf(t) = log e [ (1+n) / ( 1 + df(t) ) ] + 1 (default i:e smooth_idf = True)\n",
    "- tf-idf = tf(t) * idf(t)\n",
    "- Reference: https://www.analyticsvidhya.com/blog/2021/11/how-sklearns-tfidfvectorizer-calculates-tf-idf-values/"
   ]
  },
  {
   "cell_type": "code",
   "execution_count": 3,
   "id": "340864ff",
   "metadata": {},
   "outputs": [
    {
     "name": "stdout",
     "output_type": "stream",
     "text": [
      "\n",
      "Using tfidf\n",
      "      apple    banana    orange\n",
      "0  0.643744  0.000000  0.765241\n",
      "1  0.707107  0.707107  0.000000\n",
      "2  0.447214  0.894427  0.000000\n",
      "3  0.000000  0.859622  0.510931\n",
      "4  0.233043  0.932173  0.277026\n"
     ]
    }
   ],
   "source": [
    "print(\"\\nUsing tfidf\")\n",
    "tfidf_vec = TfidfVectorizer()\n",
    "tfidf = tfidf_vec.fit_transform(corpus)\n",
    "print(pd.DataFrame(tfidf.A, columns=tfidf_vec.get_feature_names()).to_string())"
   ]
  },
  {
   "cell_type": "markdown",
   "id": "4c092744",
   "metadata": {},
   "source": [
    "### Dataset:\n",
    "- https://www.kaggle.com/snap/amazon-fine-food-reviews?select=Reviews.csv"
   ]
  },
  {
   "cell_type": "code",
   "execution_count": 4,
   "id": "87ad3bd6",
   "metadata": {},
   "outputs": [],
   "source": [
    "df = pd.read_csv('Reviews.csv')"
   ]
  },
  {
   "cell_type": "code",
   "execution_count": 5,
   "id": "5d9f2c92",
   "metadata": {},
   "outputs": [
    {
     "data": {
      "text/html": [
       "<div>\n",
       "<style scoped>\n",
       "    .dataframe tbody tr th:only-of-type {\n",
       "        vertical-align: middle;\n",
       "    }\n",
       "\n",
       "    .dataframe tbody tr th {\n",
       "        vertical-align: top;\n",
       "    }\n",
       "\n",
       "    .dataframe thead th {\n",
       "        text-align: right;\n",
       "    }\n",
       "</style>\n",
       "<table border=\"1\" class=\"dataframe\">\n",
       "  <thead>\n",
       "    <tr style=\"text-align: right;\">\n",
       "      <th></th>\n",
       "      <th>Id</th>\n",
       "      <th>ProductId</th>\n",
       "      <th>UserId</th>\n",
       "      <th>ProfileName</th>\n",
       "      <th>HelpfulnessNumerator</th>\n",
       "      <th>HelpfulnessDenominator</th>\n",
       "      <th>Score</th>\n",
       "      <th>Time</th>\n",
       "      <th>Summary</th>\n",
       "      <th>Text</th>\n",
       "    </tr>\n",
       "  </thead>\n",
       "  <tbody>\n",
       "    <tr>\n",
       "      <th>0</th>\n",
       "      <td>1</td>\n",
       "      <td>B001E4KFG0</td>\n",
       "      <td>A3SGXH7AUHU8GW</td>\n",
       "      <td>delmartian</td>\n",
       "      <td>1</td>\n",
       "      <td>1</td>\n",
       "      <td>5</td>\n",
       "      <td>1303862400</td>\n",
       "      <td>Good Quality Dog Food</td>\n",
       "      <td>I have bought several of the Vitality canned d...</td>\n",
       "    </tr>\n",
       "    <tr>\n",
       "      <th>1</th>\n",
       "      <td>2</td>\n",
       "      <td>B00813GRG4</td>\n",
       "      <td>A1D87F6ZCVE5NK</td>\n",
       "      <td>dll pa</td>\n",
       "      <td>0</td>\n",
       "      <td>0</td>\n",
       "      <td>1</td>\n",
       "      <td>1346976000</td>\n",
       "      <td>Not as Advertised</td>\n",
       "      <td>Product arrived labeled as Jumbo Salted Peanut...</td>\n",
       "    </tr>\n",
       "    <tr>\n",
       "      <th>2</th>\n",
       "      <td>3</td>\n",
       "      <td>B000LQOCH0</td>\n",
       "      <td>ABXLMWJIXXAIN</td>\n",
       "      <td>Natalia Corres \"Natalia Corres\"</td>\n",
       "      <td>1</td>\n",
       "      <td>1</td>\n",
       "      <td>4</td>\n",
       "      <td>1219017600</td>\n",
       "      <td>\"Delight\" says it all</td>\n",
       "      <td>This is a confection that has been around a fe...</td>\n",
       "    </tr>\n",
       "    <tr>\n",
       "      <th>3</th>\n",
       "      <td>4</td>\n",
       "      <td>B000UA0QIQ</td>\n",
       "      <td>A395BORC6FGVXV</td>\n",
       "      <td>Karl</td>\n",
       "      <td>3</td>\n",
       "      <td>3</td>\n",
       "      <td>2</td>\n",
       "      <td>1307923200</td>\n",
       "      <td>Cough Medicine</td>\n",
       "      <td>If you are looking for the secret ingredient i...</td>\n",
       "    </tr>\n",
       "    <tr>\n",
       "      <th>4</th>\n",
       "      <td>5</td>\n",
       "      <td>B006K2ZZ7K</td>\n",
       "      <td>A1UQRSCLF8GW1T</td>\n",
       "      <td>Michael D. Bigham \"M. Wassir\"</td>\n",
       "      <td>0</td>\n",
       "      <td>0</td>\n",
       "      <td>5</td>\n",
       "      <td>1350777600</td>\n",
       "      <td>Great taffy</td>\n",
       "      <td>Great taffy at a great price.  There was a wid...</td>\n",
       "    </tr>\n",
       "  </tbody>\n",
       "</table>\n",
       "</div>"
      ],
      "text/plain": [
       "   Id   ProductId          UserId                      ProfileName  \\\n",
       "0   1  B001E4KFG0  A3SGXH7AUHU8GW                       delmartian   \n",
       "1   2  B00813GRG4  A1D87F6ZCVE5NK                           dll pa   \n",
       "2   3  B000LQOCH0   ABXLMWJIXXAIN  Natalia Corres \"Natalia Corres\"   \n",
       "3   4  B000UA0QIQ  A395BORC6FGVXV                             Karl   \n",
       "4   5  B006K2ZZ7K  A1UQRSCLF8GW1T    Michael D. Bigham \"M. Wassir\"   \n",
       "\n",
       "   HelpfulnessNumerator  HelpfulnessDenominator  Score        Time  \\\n",
       "0                     1                       1      5  1303862400   \n",
       "1                     0                       0      1  1346976000   \n",
       "2                     1                       1      4  1219017600   \n",
       "3                     3                       3      2  1307923200   \n",
       "4                     0                       0      5  1350777600   \n",
       "\n",
       "                 Summary                                               Text  \n",
       "0  Good Quality Dog Food  I have bought several of the Vitality canned d...  \n",
       "1      Not as Advertised  Product arrived labeled as Jumbo Salted Peanut...  \n",
       "2  \"Delight\" says it all  This is a confection that has been around a fe...  \n",
       "3         Cough Medicine  If you are looking for the secret ingredient i...  \n",
       "4            Great taffy  Great taffy at a great price.  There was a wid...  "
      ]
     },
     "execution_count": 5,
     "metadata": {},
     "output_type": "execute_result"
    }
   ],
   "source": [
    "df.head(5)"
   ]
  },
  {
   "cell_type": "code",
   "execution_count": 6,
   "id": "5f565662",
   "metadata": {},
   "outputs": [
    {
     "data": {
      "text/plain": [
       "'I have bought several of the Vitality canned dog food products and have found them all to be of good quality. The product looks more like a stew than a processed meat and it smells better. My Labrador is finicky and she appreciates this product better than  most.'"
      ]
     },
     "execution_count": 6,
     "metadata": {},
     "output_type": "execute_result"
    }
   ],
   "source": [
    "df.iloc[0]['Text']"
   ]
  },
  {
   "cell_type": "code",
   "execution_count": 7,
   "id": "7eef6a37",
   "metadata": {},
   "outputs": [
    {
     "data": {
      "text/plain": [
       "(568454, 10)"
      ]
     },
     "execution_count": 7,
     "metadata": {},
     "output_type": "execute_result"
    }
   ],
   "source": [
    "df.shape"
   ]
  },
  {
   "cell_type": "markdown",
   "id": "4bcbbf5d",
   "metadata": {},
   "source": [
    "- We would like to get an idea of the number of records that are 3 star and lower as well as 3 star and higher."
   ]
  },
  {
   "cell_type": "code",
   "execution_count": 8,
   "id": "0ef08947",
   "metadata": {},
   "outputs": [
    {
     "name": "stdout",
     "output_type": "stream",
     "text": [
      "(443777, 10) (82037, 10)\n"
     ]
    }
   ],
   "source": [
    "pos = df[df['Score']>3]\n",
    "neg = df[df['Score']<3]\n",
    "print(pos.shape, neg.shape)"
   ]
  },
  {
   "cell_type": "code",
   "execution_count": 9,
   "id": "11790202",
   "metadata": {},
   "outputs": [
    {
     "name": "stdout",
     "output_type": "stream",
     "text": [
      "(82037, 10) (82037, 10)\n"
     ]
    }
   ],
   "source": [
    "pos = pos.head(neg.shape[0])\n",
    "print(pos.shape, neg.shape)\n",
    "df = pd.concat([pos,neg])"
   ]
  },
  {
   "cell_type": "code",
   "execution_count": 10,
   "id": "fe0cb075",
   "metadata": {},
   "outputs": [
    {
     "data": {
      "text/html": [
       "<div>\n",
       "<style scoped>\n",
       "    .dataframe tbody tr th:only-of-type {\n",
       "        vertical-align: middle;\n",
       "    }\n",
       "\n",
       "    .dataframe tbody tr th {\n",
       "        vertical-align: top;\n",
       "    }\n",
       "\n",
       "    .dataframe thead th {\n",
       "        text-align: right;\n",
       "    }\n",
       "</style>\n",
       "<table border=\"1\" class=\"dataframe\">\n",
       "  <thead>\n",
       "    <tr style=\"text-align: right;\">\n",
       "      <th></th>\n",
       "      <th>Id</th>\n",
       "      <th>ProductId</th>\n",
       "      <th>UserId</th>\n",
       "      <th>ProfileName</th>\n",
       "      <th>HelpfulnessNumerator</th>\n",
       "      <th>HelpfulnessDenominator</th>\n",
       "      <th>Score</th>\n",
       "      <th>Time</th>\n",
       "      <th>Summary</th>\n",
       "      <th>Text</th>\n",
       "    </tr>\n",
       "  </thead>\n",
       "  <tbody>\n",
       "    <tr>\n",
       "      <th>314064</th>\n",
       "      <td>314065</td>\n",
       "      <td>B0018AHWLG</td>\n",
       "      <td>A2TI40FPAYM8P7</td>\n",
       "      <td>Lindsey Olson \"Living Unrefined\"</td>\n",
       "      <td>0</td>\n",
       "      <td>0</td>\n",
       "      <td>2</td>\n",
       "      <td>1304985600</td>\n",
       "      <td>blue is not true to color!</td>\n",
       "      <td>I ordered the blue non pareils, and they were ...</td>\n",
       "    </tr>\n",
       "    <tr>\n",
       "      <th>30833</th>\n",
       "      <td>30834</td>\n",
       "      <td>B007M83302</td>\n",
       "      <td>A3IUW081KXD3PE</td>\n",
       "      <td>pixels and bits</td>\n",
       "      <td>0</td>\n",
       "      <td>0</td>\n",
       "      <td>5</td>\n",
       "      <td>1330905600</td>\n",
       "      <td>Love the original - not so much the jalapeno o...</td>\n",
       "      <td>We've re-ordered the original potato Popchips ...</td>\n",
       "    </tr>\n",
       "    <tr>\n",
       "      <th>85164</th>\n",
       "      <td>85165</td>\n",
       "      <td>B004TI4SIE</td>\n",
       "      <td>A2VNKRKWWVD0R0</td>\n",
       "      <td>Someinterwebguy</td>\n",
       "      <td>0</td>\n",
       "      <td>0</td>\n",
       "      <td>5</td>\n",
       "      <td>1349568000</td>\n",
       "      <td>Strong, but good</td>\n",
       "      <td>I ordered this product after a friend of my mo...</td>\n",
       "    </tr>\n",
       "    <tr>\n",
       "      <th>37738</th>\n",
       "      <td>37739</td>\n",
       "      <td>B000FVXMUY</td>\n",
       "      <td>A3RK5I0EFJU2IO</td>\n",
       "      <td>durtro</td>\n",
       "      <td>11</td>\n",
       "      <td>14</td>\n",
       "      <td>1</td>\n",
       "      <td>1239926400</td>\n",
       "      <td>Beware...</td>\n",
       "      <td>My wife and I have purchased J. LeBlanc Champa...</td>\n",
       "    </tr>\n",
       "    <tr>\n",
       "      <th>540779</th>\n",
       "      <td>540780</td>\n",
       "      <td>B004DDFH0I</td>\n",
       "      <td>A2BSNVWUCO9MBU</td>\n",
       "      <td>Ira Hart</td>\n",
       "      <td>0</td>\n",
       "      <td>0</td>\n",
       "      <td>2</td>\n",
       "      <td>1344643200</td>\n",
       "      <td>Amazon boxes did not taste good</td>\n",
       "      <td>We bought these In a store in NYC and loved th...</td>\n",
       "    </tr>\n",
       "  </tbody>\n",
       "</table>\n",
       "</div>"
      ],
      "text/plain": [
       "            Id   ProductId          UserId                       ProfileName  \\\n",
       "314064  314065  B0018AHWLG  A2TI40FPAYM8P7  Lindsey Olson \"Living Unrefined\"   \n",
       "30833    30834  B007M83302  A3IUW081KXD3PE                   pixels and bits   \n",
       "85164    85165  B004TI4SIE  A2VNKRKWWVD0R0                   Someinterwebguy   \n",
       "37738    37739  B000FVXMUY  A3RK5I0EFJU2IO                            durtro   \n",
       "540779  540780  B004DDFH0I  A2BSNVWUCO9MBU                          Ira Hart   \n",
       "\n",
       "        HelpfulnessNumerator  HelpfulnessDenominator  Score        Time  \\\n",
       "314064                     0                       0      2  1304985600   \n",
       "30833                      0                       0      5  1330905600   \n",
       "85164                      0                       0      5  1349568000   \n",
       "37738                     11                      14      1  1239926400   \n",
       "540779                     0                       0      2  1344643200   \n",
       "\n",
       "                                                  Summary  \\\n",
       "314064                         blue is not true to color!   \n",
       "30833   Love the original - not so much the jalapeno o...   \n",
       "85164                                    Strong, but good   \n",
       "37738                                           Beware...   \n",
       "540779                    Amazon boxes did not taste good   \n",
       "\n",
       "                                                     Text  \n",
       "314064  I ordered the blue non pareils, and they were ...  \n",
       "30833   We've re-ordered the original potato Popchips ...  \n",
       "85164   I ordered this product after a friend of my mo...  \n",
       "37738   My wife and I have purchased J. LeBlanc Champa...  \n",
       "540779  We bought these In a store in NYC and loved th...  "
      ]
     },
     "execution_count": 10,
     "metadata": {},
     "output_type": "execute_result"
    }
   ],
   "source": [
    "df = shuffle(df)\n",
    "df.head()"
   ]
  },
  {
   "cell_type": "code",
   "execution_count": 11,
   "id": "397ef785",
   "metadata": {},
   "outputs": [],
   "source": [
    "corpus_2 = ['Hello the fox jumped over the lazy dog',\n",
    "'hello the fox jumped over the lazy dog.']"
   ]
  },
  {
   "cell_type": "code",
   "execution_count": 12,
   "id": "014de49b",
   "metadata": {},
   "outputs": [
    {
     "name": "stdout",
     "output_type": "stream",
     "text": [
      "Using count vectorizer\n",
      "   dog  fox  hello  jumped  lazy  over  the\n",
      "0    1    1      1       1     1     1    2\n",
      "1    1    1      1       1     1     1    2\n"
     ]
    }
   ],
   "source": [
    "print(\"Using count vectorizer\")\n",
    "tf_vectorizer = CountVectorizer()\n",
    "tf = tf_vectorizer.fit_transform(corpus_2)\n",
    "print(pd.DataFrame(tf.A, columns=tf_vectorizer.get_feature_names()).to_string())"
   ]
  },
  {
   "cell_type": "markdown",
   "id": "9aee455a",
   "metadata": {},
   "source": [
    "### Preprocessing\n",
    "Remove all nutral scores and seperate the remaning into positive = 1 and negative = 0 Preprocessing ususally involves:\n",
    "\n",
    "- Removing additional white spaces\n",
    "- Replacing emoji's with a word representation for example :) ==> smile\n",
    "- Removing links from the corpus\n",
    "- Removing punctuation\n",
    "- Removing HTML tags\n",
    "- Remove duplicate reviews\n",
    "- Here are a good links on how to process text, clean text\n",
    "\n",
    "**For this exercise we will only tokenize reviews, that is change \"This is a review\" to ['this', 'is', 'a', 'review'].**\n",
    "\n",
    "After the text is 'clean' we will use sklearn."
   ]
  },
  {
   "cell_type": "code",
   "execution_count": 13,
   "id": "4b1998df",
   "metadata": {},
   "outputs": [],
   "source": [
    "df = df[df['Score'] !=3]\n",
    "X = df['Text']\n",
    "\n",
    "y_map = {1:0, 2:0, 4:1, 5:1}\n",
    "y = df['Score'].map(y_map)"
   ]
  },
  {
   "cell_type": "code",
   "execution_count": 14,
   "id": "704be2d1",
   "metadata": {},
   "outputs": [
    {
     "data": {
      "text/plain": [
       "314064    I ordered the blue non pareils, and they were ...\n",
       "30833     We've re-ordered the original potato Popchips ...\n",
       "85164     I ordered this product after a friend of my mo...\n",
       "37738     My wife and I have purchased J. LeBlanc Champa...\n",
       "540779    We bought these In a store in NYC and loved th...\n",
       "Name: Text, dtype: object"
      ]
     },
     "execution_count": 14,
     "metadata": {},
     "output_type": "execute_result"
    }
   ],
   "source": [
    "X.head(5)"
   ]
  },
  {
   "cell_type": "markdown",
   "id": "773ccef3",
   "metadata": {},
   "source": [
    "- Let us attempt to convert all the text in X to lowercase only."
   ]
  },
  {
   "cell_type": "code",
   "execution_count": 15,
   "id": "c906c004",
   "metadata": {},
   "outputs": [
    {
     "data": {
      "text/plain": [
       "314064    i ordered the blue non pareils, and they were ...\n",
       "30833     we've re-ordered the original potato popchips ...\n",
       "85164     i ordered this product after a friend of my mo...\n",
       "37738     my wife and i have purchased j. leblanc champa...\n",
       "540779    we bought these in a store in nyc and loved th...\n",
       "                                ...                        \n",
       "220696    not pleased at all. when i opened the box, mos...\n",
       "389046    worse clam chowder mix ever!  it is just a pot...\n",
       "49324     omg these things are addictive. i love them an...\n",
       "98042     this review will make me sound really stupid, ...\n",
       "321780    i'm glad i tried out the chocolate dreams befo...\n",
       "Name: Text, Length: 164074, dtype: object"
      ]
     },
     "execution_count": 15,
     "metadata": {},
     "output_type": "execute_result"
    }
   ],
   "source": [
    "X.str.lower()"
   ]
  },
  {
   "cell_type": "code",
   "execution_count": 16,
   "id": "4ccd8a57",
   "metadata": {},
   "outputs": [],
   "source": [
    "def convert_to_lowercase(text):\n",
    "    return text.lower()\n",
    "\n",
    "X_lowercase = X.apply(convert_to_lowercase)"
   ]
  },
  {
   "cell_type": "code",
   "execution_count": 17,
   "id": "441b64b4",
   "metadata": {},
   "outputs": [
    {
     "data": {
      "text/plain": [
       "314064    i ordered the blue non pareils, and they were ...\n",
       "30833     we've re-ordered the original potato popchips ...\n",
       "85164     i ordered this product after a friend of my mo...\n",
       "37738     my wife and i have purchased j. leblanc champa...\n",
       "540779    we bought these in a store in nyc and loved th...\n",
       "                                ...                        \n",
       "220696    not pleased at all. when i opened the box, mos...\n",
       "389046    worse clam chowder mix ever!  it is just a pot...\n",
       "49324     omg these things are addictive. i love them an...\n",
       "98042     this review will make me sound really stupid, ...\n",
       "321780    i'm glad i tried out the chocolate dreams befo...\n",
       "Name: Text, Length: 164074, dtype: object"
      ]
     },
     "execution_count": 17,
     "metadata": {},
     "output_type": "execute_result"
    }
   ],
   "source": [
    "X_lowercase"
   ]
  },
  {
   "cell_type": "code",
   "execution_count": 18,
   "id": "e56eb880",
   "metadata": {},
   "outputs": [
    {
     "data": {
      "text/plain": [
       "314064    0\n",
       "30833     1\n",
       "85164     1\n",
       "37738     0\n",
       "540779    0\n",
       "Name: Score, dtype: int64"
      ]
     },
     "execution_count": 18,
     "metadata": {},
     "output_type": "execute_result"
    }
   ],
   "source": [
    "y.head(5)"
   ]
  },
  {
   "cell_type": "code",
   "execution_count": 19,
   "id": "e000bd00",
   "metadata": {},
   "outputs": [
    {
     "data": {
      "text/plain": [
       "0    82037\n",
       "1    82037\n",
       "Name: Score, dtype: int64"
      ]
     },
     "execution_count": 19,
     "metadata": {},
     "output_type": "execute_result"
    }
   ],
   "source": [
    "y.value_counts()"
   ]
  },
  {
   "cell_type": "markdown",
   "id": "db91825c",
   "metadata": {},
   "source": [
    "### Classification"
   ]
  },
  {
   "cell_type": "markdown",
   "id": "8b8df505",
   "metadata": {},
   "source": [
    "Once the text is processed the next step is to do the actual classification. For this exercise we will be using a Logistic Regression Classifier. However there are many other popular classifiers that may perform better:\n",
    "\n",
    "- Support Vector Machine and its variants\n",
    "- Naive Bayes and its variants\n",
    "- Random Forests and its variants\n",
    "\n",
    "Let's create a function that takes in the training set X , test set y, the model being used model and the classification algorithm clf_model as well as a variable that will show the top coefficients if true coef_show"
   ]
  },
  {
   "cell_type": "code",
   "execution_count": 277,
   "id": "ada46c09",
   "metadata": {},
   "outputs": [],
   "source": [
    "from sklearn.metrics import confusion_matrix\n",
    "\n",
    "def text_fit(X, y, model, clf_model, coef_show=1):\n",
    "    X_c = model.fit_transform(X)\n",
    "    print('# features: {}'.format(X_c.shape[1]))\n",
    "    X_train, X_test, y_train, y_test = train_test_split(X_c, y, random_state=0)\n",
    "    print('# train records: {}'.format(X_train.shape[0]))\n",
    "    print('# test records: {}'.format(X_test.shape[0]))\n",
    "    clf = clf_model.fit(X_train, y_train)\n",
    "    y_pred = clf.predict(X_test)\n",
    "    recall = recall_score(y_test, y_pred)\n",
    "    accuracy = accuracy_score(y_test, y_pred)\n",
    "    f1_score_value = f1_score(y_test, y_pred)\n",
    "    print ('Model Recall: {}'.format(recall))\n",
    "    print ('Model Accuracy: {}'.format(accuracy))\n",
    "    print ('Model F1 Score: {}'.format(f1_score_value))\n",
    "    if coef_show == 1:\n",
    "        print(confusion_matrix(y_test, y_pred))\n",
    "        w = model.get_feature_names()\n",
    "        coef = clf.coef_.tolist()[0]\n",
    "        coeff_df = pd.DataFrame({'Word' : w, 'Coefficient' : coef})\n",
    "        coeff_df = coeff_df.sort_values(['Coefficient', 'Word'], ascending=[0, 1])\n",
    "        print('')\n",
    "        print('-Top 20 positive-')\n",
    "        print(coeff_df.head(20).to_string(index=False))\n",
    "        print('')\n",
    "        print('-Top 20 negative-')        \n",
    "        print(coeff_df.tail(20).to_string(index=False))"
   ]
  },
  {
   "cell_type": "markdown",
   "id": "d77d836c",
   "metadata": {},
   "source": [
    "### Classification Experiments\n",
    "\n",
    "- Logistic regression model on word count\n",
    "- Logistic regression model on TFIDF\n",
    "- Logistic regression model on TFIDF + ngram\n",
    "\n",
    "NGram Defn: N-grams of texts are extensively used in text mining and natural language processing tasks. They are basically a set of co-occuring words within a given window and when computing the n-grams you typically move one word forward (although you can move X words forward in more advanced scenarios). Taken from [here](http://text-analytics101.rxnlp.com/2014/11/what-are-n-grams.html)."
   ]
  },
  {
   "cell_type": "code",
   "execution_count": 278,
   "id": "9ec79b6b",
   "metadata": {},
   "outputs": [
    {
     "name": "stdout",
     "output_type": "stream",
     "text": [
      "# features: 68923\n",
      "# train records: 123055\n",
      "# test records: 41019\n",
      "Model Recall: 0.9031786271450858\n",
      "Model Accuracy: 0.9026304883102952\n",
      "Model F1 Score: 0.9026945378355992\n",
      "[[18499  2008]\n",
      " [ 1986 18526]]\n",
      "\n",
      "-Top 20 positive-\n",
      "         Word  Coefficient\n",
      "   pleasantly     2.875999\n",
      "     downside     2.721208\n",
      "     drawback     2.501137\n",
      "    alternate     2.429679\n",
      "      worries     2.396946\n",
      "    skeptical     2.343775\n",
      "       hooked     2.306791\n",
      "     terrific     2.258932\n",
      "    addicting     2.240338\n",
      "     tastiest     2.205700\n",
      "      welcome     2.194390\n",
      "    delighted     2.188042\n",
      "       resist     2.184319\n",
      "    delicious     2.133288\n",
      "     soothing     2.057596\n",
      "      worried     2.016649\n",
      "          met     1.981074\n",
      "        penny     1.935153\n",
      "  substitutes     1.919089\n",
      "deliciousness     1.902698\n",
      "\n",
      "-Top 20 negative-\n",
      "         Word  Coefficient\n",
      "         alas    -2.000885\n",
      "  unappealing    -2.019408\n",
      "   overpowers    -2.023489\n",
      "         lame    -2.052719\n",
      "     refunded    -2.062688\n",
      "       bummer    -2.161501\n",
      "      expired    -2.168850\n",
      "     terrible    -2.353978\n",
      "        awful    -2.494587\n",
      "     canceled    -2.576806\n",
      "  disapointed    -2.588621\n",
      "     inferior    -2.590685\n",
      "disappointing    -2.652831\n",
      "      sounded    -2.654917\n",
      "  undrinkable    -2.671097\n",
      "      assumed    -2.739640\n",
      "        worst    -2.886480\n",
      " unacceptable    -2.891070\n",
      "     mediocre    -2.911058\n",
      "    cancelled    -3.328344\n"
     ]
    },
    {
     "name": "stderr",
     "output_type": "stream",
     "text": [
      "/opt/anaconda3/lib/python3.9/site-packages/sklearn/linear_model/_logistic.py:763: ConvergenceWarning: lbfgs failed to converge (status=1):\n",
      "STOP: TOTAL NO. of ITERATIONS REACHED LIMIT.\n",
      "\n",
      "Increase the number of iterations (max_iter) or scale the data as shown in:\n",
      "    https://scikit-learn.org/stable/modules/preprocessing.html\n",
      "Please also refer to the documentation for alternative solver options:\n",
      "    https://scikit-learn.org/stable/modules/linear_model.html#logistic-regression\n",
      "  n_iter_i = _check_optimize_result(\n"
     ]
    }
   ],
   "source": [
    "c = CountVectorizer(stop_words = 'english')\n",
    "text_fit(X, y, c, LogisticRegression())"
   ]
  },
  {
   "cell_type": "code",
   "execution_count": 279,
   "id": "8cd36e68",
   "metadata": {},
   "outputs": [
    {
     "name": "stdout",
     "output_type": "stream",
     "text": [
      "# features: 68923\n",
      "# train records: 123055\n",
      "# test records: 41019\n",
      "Model Recall: 0.8998634945397815\n",
      "Model Accuracy: 0.9030205514517663\n",
      "Model F1 Score: 0.9027241160072381\n",
      "[[18583  1924]\n",
      " [ 2054 18458]]\n",
      "\n",
      "-Top 20 positive-\n",
      "      Word  Coefficient\n",
      "     great    11.199308\n",
      " delicious    10.541098\n",
      "      best     9.491279\n",
      "   perfect     9.221737\n",
      " excellent     7.931535\n",
      "     loves     7.838631\n",
      "    highly     7.718184\n",
      "      love     6.995215\n",
      " wonderful     6.779076\n",
      "   amazing     6.736895\n",
      "      good     6.348390\n",
      "   awesome     6.262260\n",
      "      nice     6.121347\n",
      "  favorite     6.041019\n",
      "    hooked     5.933705\n",
      "     yummy     5.861798\n",
      "      glad     5.640179\n",
      "   pleased     5.477990\n",
      "refreshing     5.414186\n",
      "    smooth     5.350385\n",
      "\n",
      "-Top 20 negative-\n",
      "          Word  Coefficient\n",
      "         sorry    -5.421408\n",
      "      thinking    -5.446360\n",
      "         money    -5.468640\n",
      "    disgusting    -5.711090\n",
      "        hoping    -5.721301\n",
      "         waste    -5.820231\n",
      "         stale    -5.859962\n",
      "         threw    -5.862442\n",
      "       thought    -5.952880\n",
      "         bland    -6.018968\n",
      "        return    -6.181048\n",
      "          weak    -6.737762\n",
      "disappointment    -6.771769\n",
      " unfortunately    -7.266020\n",
      "      horrible    -7.868325\n",
      "      terrible    -8.449277\n",
      " disappointing    -8.680638\n",
      "         awful    -8.769228\n",
      "  disappointed    -9.522111\n",
      "         worst    -9.753788\n"
     ]
    },
    {
     "name": "stderr",
     "output_type": "stream",
     "text": [
      "/opt/anaconda3/lib/python3.9/site-packages/sklearn/linear_model/_logistic.py:763: ConvergenceWarning: lbfgs failed to converge (status=1):\n",
      "STOP: TOTAL NO. of ITERATIONS REACHED LIMIT.\n",
      "\n",
      "Increase the number of iterations (max_iter) or scale the data as shown in:\n",
      "    https://scikit-learn.org/stable/modules/preprocessing.html\n",
      "Please also refer to the documentation for alternative solver options:\n",
      "    https://scikit-learn.org/stable/modules/linear_model.html#logistic-regression\n",
      "  n_iter_i = _check_optimize_result(\n"
     ]
    }
   ],
   "source": [
    "tfidf = TfidfVectorizer(stop_words = 'english')\n",
    "text_fit(X, y, tfidf, LogisticRegression())"
   ]
  },
  {
   "cell_type": "code",
   "execution_count": 280,
   "id": "6a7162c0",
   "metadata": {},
   "outputs": [
    {
     "name": "stdout",
     "output_type": "stream",
     "text": [
      "# features: 1932701\n",
      "# train records: 123055\n",
      "# test records: 41019\n"
     ]
    },
    {
     "name": "stderr",
     "output_type": "stream",
     "text": [
      "/opt/anaconda3/lib/python3.9/site-packages/sklearn/linear_model/_logistic.py:763: ConvergenceWarning: lbfgs failed to converge (status=1):\n",
      "STOP: TOTAL NO. of ITERATIONS REACHED LIMIT.\n",
      "\n",
      "Increase the number of iterations (max_iter) or scale the data as shown in:\n",
      "    https://scikit-learn.org/stable/modules/preprocessing.html\n",
      "Please also refer to the documentation for alternative solver options:\n",
      "    https://scikit-learn.org/stable/modules/linear_model.html#logistic-regression\n",
      "  n_iter_i = _check_optimize_result(\n"
     ]
    },
    {
     "name": "stdout",
     "output_type": "stream",
     "text": [
      "Model Recall: 0.9121977379095164\n",
      "Model Accuracy: 0.9165264877252005\n",
      "Model F1 Score: 0.916172942270969\n",
      "[[18884  1623]\n",
      " [ 1801 18711]]\n",
      "\n",
      "-Top 20 positive-\n",
      "            Word  Coefficient\n",
      "           great    17.068775\n",
      "       delicious    14.288141\n",
      "            best    13.998014\n",
      "         perfect    12.205788\n",
      "           loves    11.070601\n",
      "            love    10.919196\n",
      "       excellent    10.208029\n",
      "            good     9.319964\n",
      "       wonderful     9.141942\n",
      "        favorite     8.912672\n",
      "            nice     8.869322\n",
      "         amazing     7.970766\n",
      "            easy     7.817202\n",
      "         awesome     7.468657\n",
      "          highly     7.344558\n",
      "           tasty     7.254625\n",
      "           happy     7.073977\n",
      "           yummy     6.899541\n",
      "          smooth     6.719757\n",
      "highly recommend     6.622534\n",
      "\n",
      "-Top 20 negative-\n",
      "          Word  Coefficient\n",
      "         china    -6.181449\n",
      "         threw    -6.606483\n",
      "        hoping    -6.658655\n",
      "         waste    -6.754018\n",
      "         maybe    -6.788529\n",
      "disappointment    -6.976001\n",
      "         bland    -7.112180\n",
      "           bad    -7.603296\n",
      "        return    -7.648490\n",
      "         stale    -7.723542\n",
      "         money    -7.791678\n",
      "          weak    -8.285508\n",
      "       thought    -8.819587\n",
      " unfortunately    -8.821102\n",
      "      horrible    -8.869122\n",
      " disappointing    -9.320179\n",
      "      terrible    -9.824119\n",
      "         awful    -9.902304\n",
      "         worst   -10.689798\n",
      "  disappointed   -13.571695\n"
     ]
    }
   ],
   "source": [
    "tfidf_n = TfidfVectorizer(ngram_range=(1,2), stop_words = 'english')\n",
    "text_fit(X, y, tfidf_n, LogisticRegression())"
   ]
  },
  {
   "cell_type": "markdown",
   "id": "f11d3335",
   "metadata": {},
   "source": [
    "There are quite a few features in our bag of words, more than 100 thousand! We will cut it down a bit to help our runtime in the following steps using sklearn's SelectPercentile function. SelectPercentile selects the top features of a dataset which allows us to discard features which are not as important."
   ]
  },
  {
   "cell_type": "code",
   "execution_count": 52,
   "id": "f72415ae",
   "metadata": {},
   "outputs": [],
   "source": [
    "def text_fit_v2(X, y, model, clf_model, select_percentile_value, coef_show=1):\n",
    "    X_c = model.fit_transform(X)\n",
    "    print('# features before applying select percentile: {}'.format(X_c.shape[1]))\n",
    "    select_percentile = SelectPercentile(f_regression, select_percentile_value)\n",
    "    X_transformed = select_percentile.fit_transform(X_c, y)\n",
    "    print('# features after applying select percentile: {}'.format(X_transformed.shape[1]))\n",
    "    X_train, X_test, y_train, y_test = train_test_split(X_transformed, y, random_state=0)\n",
    "    print('# train records: {}'.format(X_train.shape[0]))\n",
    "    print('# test records: {}'.format(X_test.shape[0]))\n",
    "    clf = clf_model.fit(X_train, y_train)\n",
    "    y_pred = clf.predict(X_test)\n",
    "    recall = recall_score(y_test,y_pred)\n",
    "    print ('Model Recall: {}'.format(recall))\n",
    "    if coef_show == 1:\n",
    "        idx = np.arange(0, X_c.shape[1])  #create an index array\n",
    "        features_to_keep = idx[select_percentile.get_support() == True]\n",
    "        cols = np.array(list(model.vocabulary_.keys()))\n",
    "        w = cols[features_to_keep]\n",
    "        coef = clf.coef_.tolist()[0]\n",
    "        coeff_df = pd.DataFrame({'Word' : w, 'Coefficient' : coef})\n",
    "        coeff_df = coeff_df.sort_values(['Coefficient', 'Word'], ascending=[0, 1])\n",
    "        print('')\n",
    "        print('-Top 20 positive-')\n",
    "        print(coeff_df.head(20).to_string(index=False))\n",
    "        print('')\n",
    "        print('-Top 20 negative-')        \n",
    "        print(coeff_df.tail(20).to_string(index=False))"
   ]
  },
  {
   "cell_type": "code",
   "execution_count": 53,
   "id": "52c97ae7",
   "metadata": {},
   "outputs": [
    {
     "name": "stdout",
     "output_type": "stream",
     "text": [
      "# features before applying select percentile: 1932701\n"
     ]
    },
    {
     "name": "stderr",
     "output_type": "stream",
     "text": [
      "/opt/anaconda3/lib/python3.9/site-packages/sklearn/utils/validation.py:70: FutureWarning: Pass percentile=25 as keyword args. From version 1.0 (renaming of 0.25) passing these as positional arguments will result in an error\n",
      "  warnings.warn(f\"Pass {args_msg} as keyword args. From version \"\n"
     ]
    },
    {
     "name": "stdout",
     "output_type": "stream",
     "text": [
      "# features after applying select percentile: 483175\n",
      "# train records: 123055\n",
      "# test records: 41019\n"
     ]
    },
    {
     "name": "stderr",
     "output_type": "stream",
     "text": [
      "/opt/anaconda3/lib/python3.9/site-packages/sklearn/linear_model/_logistic.py:763: ConvergenceWarning: lbfgs failed to converge (status=1):\n",
      "STOP: TOTAL NO. of ITERATIONS REACHED LIMIT.\n",
      "\n",
      "Increase the number of iterations (max_iter) or scale the data as shown in:\n",
      "    https://scikit-learn.org/stable/modules/preprocessing.html\n",
      "Please also refer to the documentation for alternative solver options:\n",
      "    https://scikit-learn.org/stable/modules/linear_model.html#logistic-regression\n",
      "  n_iter_i = _check_optimize_result(\n"
     ]
    },
    {
     "name": "stdout",
     "output_type": "stream",
     "text": [
      "Model Recall: 0.9127582017010936\n",
      "\n",
      "-Top 20 positive-\n",
      "               Word  Coefficient\n",
      "    house genuinely    17.141704\n",
      "                900    14.008422\n",
      "          child age    13.913082\n",
      "       produce food    12.448542\n",
      "   defeated concept    11.113630\n",
      " ingredient gummies    10.900023\n",
      "   hooked delicious    10.165959\n",
      "        tea england     9.401815\n",
      "     lighter creamy     9.214232\n",
      "     calls addition     9.011083\n",
      "       disputed way     8.740762\n",
      "    forward special     7.797576\n",
      "       results poor     7.711322\n",
      "        tasty pasta     7.600721\n",
      " monosaccharides br     7.241321\n",
      "        clumps fall     7.226030\n",
      "     adjacent soils     6.958082\n",
      "phenomenal customer     6.564739\n",
      "       lid annoying     6.524284\n",
      "  stopped overnight     6.501126\n",
      "\n",
      "-Top 20 negative-\n",
      "                Word  Coefficient\n",
      "            cap like    -6.570203\n",
      "    beverage lightly    -6.602245\n",
      "      vacation fruit    -6.747825\n",
      "     peppermint list    -6.855648\n",
      "   strongest boldest    -6.865625\n",
      "      powdery chalky    -7.510153\n",
      "  recommends cutting    -7.583308\n",
      "previous experiences    -7.656371\n",
      "        flavor stews    -7.656774\n",
      " results suggestions    -7.811069\n",
      "    pomegranate bags    -7.849488\n",
      "    repeated surface    -8.620432\n",
      "    cinnamon appears    -8.622404\n",
      "      rivals quality    -8.780993\n",
      "       variety meant    -8.804289\n",
      "  disgusting seconds    -8.917370\n",
      "            squeezed    -9.689515\n",
      "       adding injury    -9.722362\n",
      "         360 tootsie   -11.003933\n",
      "     clearly expired   -13.999896\n"
     ]
    }
   ],
   "source": [
    "tfidf_n = TfidfVectorizer(ngram_range=(1, 2), stop_words = 'english')\n",
    "text_fit_v2(X, y, tfidf_n, LogisticRegression(), 25, 1)"
   ]
  },
  {
   "cell_type": "markdown",
   "id": "85348462",
   "metadata": {},
   "source": [
    "### Topic Modelling\n",
    "\n",
    "Topic modeling is an unsupervised machine learning technique that’s capable of scanning a set of documents, detecting word and phrase patterns within them, and automatically clustering word groups and similar expressions that best characterize a set of documents.\n",
    "\n",
    "Non Negative Matrix Factorization (NMF), Latent Dirichlet Allocation (LDA) and Single Value Decomposition (SVD) algorithms will be used to find topics in a document collection. The output of the derived topics involved assigning a numeric label to the topic and printing out the top words in a topic.\n",
    "\n",
    "The algorithms are not able to automatically determine the number of topics and this value must be set when running the algorithm. Comprehensive documentation on available parameters is available for both [NMF](https://scikit-learn.org/stable/modules/generated/sklearn.decomposition.NMF.html), [LDA](https://scikit-learn.org/stable/modules/generated/sklearn.decomposition.LatentDirichletAllocation.html#sklearn.decomposition.LatentDirichletAllocation) and [SVD](https://scikit-learn.org/stable/modules/generated/sklearn.decomposition.TruncatedSVD.html)."
   ]
  },
  {
   "cell_type": "code",
   "execution_count": 281,
   "id": "4920e75b",
   "metadata": {},
   "outputs": [],
   "source": [
    "def display_topics(H, W, feature_names, documents, no_top_words, no_top_documents):\n",
    "    for topic_idx, topic in enumerate(H):\n",
    "        print(\"Topic %d:\" % (topic_idx))\n",
    "        print(\" \".join([feature_names[i]\n",
    "                        for i in topic.argsort()[:-no_top_words - 1:-1]]))\n",
    "        print(\"\\n\")\n",
    "        top_doc_indices = np.argsort( W[:,topic_idx] )[::-1][0:no_top_documents]\n",
    "        for doc_index in top_doc_indices:\n",
    "            print(documents[doc_index])\n",
    "            print(\"\\n\")"
   ]
  },
  {
   "cell_type": "code",
   "execution_count": 282,
   "id": "9424f0b9",
   "metadata": {},
   "outputs": [
    {
     "name": "stdout",
     "output_type": "stream",
     "text": [
      "10000\n"
     ]
    }
   ],
   "source": [
    "documents = list(X)[0:10000]\n",
    "print(len(documents))"
   ]
  },
  {
   "cell_type": "code",
   "execution_count": 285,
   "id": "7640a9d9",
   "metadata": {},
   "outputs": [],
   "source": [
    "# NMF is able to use tf-idf\n",
    "tfidf_vectorizer = TfidfVectorizer(max_df=0.95, min_df=2, stop_words='english')\n",
    "tfidf = tfidf_vectorizer.fit_transform(documents)\n",
    "tfidf_feature_names = tfidf_vectorizer.get_feature_names()"
   ]
  },
  {
   "cell_type": "code",
   "execution_count": 286,
   "id": "33b6c3d9",
   "metadata": {},
   "outputs": [],
   "source": [
    "# LDA can only use raw term counts for LDA because it is a probabilistic graphical model\n",
    "tf_vectorizer = CountVectorizer(max_df=0.95, min_df=2, stop_words='english')\n",
    "tf = tf_vectorizer.fit_transform(documents)\n",
    "tf_feature_names = tf_vectorizer.get_feature_names()"
   ]
  },
  {
   "cell_type": "code",
   "execution_count": 287,
   "id": "6951c478",
   "metadata": {},
   "outputs": [],
   "source": [
    "no_topics = 5"
   ]
  },
  {
   "cell_type": "code",
   "execution_count": 288,
   "id": "83834215",
   "metadata": {},
   "outputs": [],
   "source": [
    "# Run NMF\n",
    "nmf_model = NMF(n_components=no_topics, random_state=1, alpha=.1, l1_ratio=.5, init='nndsvd').fit(tfidf)\n",
    "nmf_W = nmf_model.transform(tfidf)\n",
    "nmf_H = nmf_model.components_"
   ]
  },
  {
   "cell_type": "code",
   "execution_count": 289,
   "id": "15531447",
   "metadata": {},
   "outputs": [
    {
     "name": "stdout",
     "output_type": "stream",
     "text": [
      "NMF Topics \n",
      "\n",
      "\n",
      "Topic 0:\n",
      "br water box ingredients sugar products make chicken review amazon\n",
      "\n",
      "\n",
      "thank you for fast delivery<br />I did not open it yet<br />but I know i like this stuff a lot very very taste<br />good thing the expire date is until may 2012<br />I like that...<br />so I think it is OK<br /><br />yesterday when i tried to cancel it<br />after I read other person's review<br />I hardly get throw so i was a little had a bad feeling about the site<br />so i thought i wanted to return but i will keep it<br /><br />anyhow<br />It is Hot here in Florida<br />and they sent it very fast<br />Delivery man who works hard too<br />so I will keep this stuff.<br /><br />thank you\n",
      "\n",
      "\n",
      "Haven't tried this batch, but Tetley<br />is the best for me.  Like it w/o the<br />bag strings., and it's strength.<br /><br />Wish Amazon could get straight on<br />deliveries here in Hoodsport.<br />Somehow Amazon and the USPS can't<br />get together as to how to make a<br />quick smooth shipment and quick<br />delivery.<br /><br />Also, I would like Amazon to clean<br />up my bankcard numbers they use.<br />They keep trying to use an old,<br />outdated one instead of the<br />current one.  We will survive<br />but it is a pain in the backside.  Well, you asked for it!.\n",
      "\n",
      "\n",
      "I had never tried this product before I was offered it through the vine. I eat Bear Naked granola daily, which is what I can compare this to.<br /><br />I was kind of unsure of the mixture of chocolate and granola. I had figured it was like steak flavored tofu, sure the taste is good but why? When I recieved the bag I was really delighted at the taste.<br /><br />It does not have a strong chocolate flavor. The small chocolate bits inside are tasty too. It also has LESS calories than Pure Protein from Bear Naked granola.<br /><br />Here are the specs:<br /><br />| Nutrition Facts<br />| Serving size 1/2 cup 50g<br />| Servings per container: about 7<br /><br />| Amount per serving:<br />| Calories 220 Calories from fat50<br />| Total fat: 6g 9%dv<br />| Sat fat: 2g 10%dv<br />| Trans fat 0g<br />| Polyunsaturated fat 1g<br />| Monounsaturated fat 2.5g<br />| Cholesterol 0mg 0% dv<br />| Sodium 5mg 0% dv<br />| Potassium 160mg 5% dv<br />| Total Carbohydrates 37g 12% dv<br />| Dietary fiber 4g 16% dv<br />| Sugar 13g<br />| Other Carbs 20g<br />| Protein: 5g<br /><br />| Vitamin A 0% o Vitamin C 0%<br />| Calcium 2% o Iron 10%<br />| Phosphorus 15%o Magnesium 15%<br />| Zinc 10% o Copper 15%<br /><br />Pros:<br />>> Great taste<br />>> Decent iron for vegetarians<br />>> Not too bad for calories per serving<br /><br />Cons:<br />>> Chocolate granola?<br />>> Not vegan (contains milk)<br /><br />Overall a great snack!<br /><br />Thank you for reading my review.\n",
      "\n",
      "\n",
      "Revolution makes a green Earl Grey tea but this item is mislabelled.<br /><br />This is a fine Green Tea but it is not Earl Grey.<br /><br />I ordered 6 so now I am stuck with something I did not want.<br /><br />This is the second time this has happened to me with Amazon.<br /><br />Another time I ordered what was described as \"12 Packs of Coffee Filters<br /><br />with 40 each.\" I received one and Amazon told me it was a misprint.<br /><br />No compensation was offered.<br /><br />Amazon needs a proof reader or needs to stand behind the descriptions<br /><br />of items they sell.\n",
      "\n",
      "\n",
      "Topic 1:\n",
      "like taste good product flavor great just really chocolate love\n",
      "\n",
      "\n",
      "I have tried the other flavors and this was a good addition and I like this product and would buy all that they make .  it makes you burp and has a great taste.\n",
      "\n",
      "\n",
      "my kids like all of the flavors but chocolate.  They say they just don't taste very good.\n",
      "\n",
      "\n",
      "These just do not taste good at all. They don't taste like cheese, they are just nasty. I don't know what else to say about them.\n",
      "\n",
      "\n",
      "I love this product very much. Normally, chips are too salty for me. This product is just perfect. I like to eat it without any sauce to enjoy its natural great flavor.\n",
      "\n",
      "\n",
      "Topic 2:\n",
      "coffee cup cups roast strong keurig bitter bold like weak\n",
      "\n",
      "\n",
      "This is my every day coffee. It's a smooth coffee with no bitter after taste. This is not the coffee for those who like a strong cup of coffee. This coffee is for those who don't like to drink coffee that has been sitting  on a burner for hours but like the first cup of fresh coffee\n",
      "\n",
      "\n",
      "I have been drinking this coffee for at least a couple of years.  It's a strong-tasting coffee, which is just what I like.  It's not the BEST coffee I've ever tasted (I'm a major coffee snob), but it's good, everyday coffee, and the price is right for an organic coffee (especially with Subscribe & Save).\n",
      "\n",
      "\n",
      "I love this coffee it's my favorite so far I want to try them all. I don't like strong coffee and I hate bitter after taste coffee to me this is the perfect cup  of coffee. I'm not telling everyone to go out and buy it this is my own opinion.\n",
      "\n",
      "\n",
      "Love good coffee, but this stuff makes my Keurig seem defective. Just about any other cup the Keurig puts out a decent cup of coffee. But this iced coffee cup does not work in the Keurig. I make far better iced coffee with my cold brew system or coffee press. And, these K-cups are expensive for a bland instant coffee taste.\n",
      "\n",
      "\n",
      "Topic 3:\n",
      "tea green teas drink chai iced bags stash black cup\n",
      "\n",
      "\n",
      "I drink green tea because its healthy for you especially green tea. Ide say this tea with sugar tastes very very good its one of my drop the soda substitute since its so great! I recommend this tea to buy over some of the more nastier tea's out there but Great Product overall!\n",
      "\n",
      "\n",
      "I was very disappointed with this tea. It has no flavor as would good Ceylon tea. I am a tea drinker and this one does not messure to the standart. I love other teas by this company, however, it will be the first and last time I bought this tea.\n",
      "\n",
      "\n",
      "I first had this tea in a restaurant, immediately I tasted the natural sweetness of this tea. It was not a bitter tea,nor was it too sweet. It was like the perfect cup of tea.\n",
      "\n",
      "\n",
      "STASH PREMIUM TEA has little to no taste, depending on the flavor used.  The Decaf Chocolate Hazelnut Tea has absolutely NO flavor even when I try 3 tea bags to a cup of boiling water. I purchased 6 - 18 count boxes.  I had tried a hot chocolate tea in one of our little delis and it was wonderful.  I don't remember the name of the tea.  I don't know if this is common for STASH tea or if I received an old batch.  I'm sitting here with over 100 tea bags with absolutely no flavor.<br /><br />If you're looking for a tea with flavor, I would discourage your using this tea.\n",
      "\n",
      "\n",
      "Topic 4:\n",
      "food dog dogs treats cat eat loves cats treat chicken\n",
      "\n",
      "\n",
      "I have been using this dog food for quite some time, until my dog started throwing up and basically wouldn't eat much of this dog food anymore like he used to.  I stopped feeding him this dog food and bought organic.  My dog started eating again and stopped throwing up. I will not be buying this dog food anymore.\n",
      "\n",
      "\n",
      "My dog as very bad food allergies and this is the only food we've found that she can eat!\n",
      "\n",
      "\n",
      "My dog loves this food and I don't have to worry about what's in it. With all of the bad dog food on the market, I'm glad there is a product like this one.\n",
      "\n",
      "\n",
      "My dog loves this food and I don't have to worry about what's in it. With all of the bad dog food on the market, I'm glad there is a product like this one.\n",
      "\n",
      "\n"
     ]
    }
   ],
   "source": [
    "no_top_words = 10\n",
    "no_top_documents = 4\n",
    "print(\"NMF Topics \\n\\n\")\n",
    "display_topics(nmf_H, nmf_W, tfidf_feature_names, documents, no_top_words, no_top_documents)"
   ]
  },
  {
   "cell_type": "code",
   "execution_count": 290,
   "id": "2b2c0150",
   "metadata": {},
   "outputs": [],
   "source": [
    "# Run LDA\n",
    "lda_model = LatentDirichletAllocation(n_components=no_topics, max_iter=5, learning_method='online', learning_offset=50.,random_state=0).fit(tf)\n",
    "lda_W = lda_model.transform(tf)\n",
    "lda_H = lda_model.components_"
   ]
  },
  {
   "cell_type": "code",
   "execution_count": 291,
   "id": "4ded77c0",
   "metadata": {},
   "outputs": [
    {
     "name": "stdout",
     "output_type": "stream",
     "text": [
      "\n",
      "\n",
      "LDA Topics \n",
      "\n",
      "\n",
      "Topic 0:\n",
      "br food dog china seeds formula products toy treats dogs\n",
      "\n",
      "\n",
      "My dog Brooklyn loves this doggie chew.  He's now master it, and it would take him about 10 minutes to take it apart.<br /><br />As a CAUTION, these rings must be used with the Busy Buddy Toy.  Dogs can swallow this ring as a whole and it can lodge into the esophagus or intestine.\n",
      "\n",
      "\n",
      "This treat is made in China and I have been made aware the the FDA is still investigating why this product has caused kidney failure and subsequent death in dogs. No more products made in China for my beloved pets!\n",
      "\n",
      "\n",
      "With the increasing number of dogs ill with kidney and liver disease related to treats made in China, my vet has taken our SCWT off all treats made in China.  Since then his liver and kidney enzymes have returned to normal.  We are sticking to made in the USA natural and organic treats.\n",
      "\n",
      "\n",
      "Unfortunately, Made in China. I do not trust their manufacturing standards.  Looking for an alternative....\n",
      "\n",
      "\n",
      "Topic 1:\n",
      "food br dog product just dogs time bag eat treats\n",
      "\n",
      "\n",
      "This review will make me sound really stupid, but whatever. I don't really care as long as people find out what's real and can avoid my mistakes.<br /><br />I got my wonderful little sweet Bella Bean when she was a few days shy of three years old. She had been bounced around from house to house and eating whatever was cheap. I have had cats around me my entire life, for about twenty-five years now. My mother always just fed them whatever, the kinds of food you buy in the supermarket - Friskies, Nine Lives, Kit & Kaboodle, stuff like that. And our cats were always fine, at least in terms of their eating habits. They would eat in the morning, stop when they were done, come back, and eat some more when they got hungry.<br /><br />My housemate at the time was working for Hill's and assured me that this was the best food ever made, so great, so on and so forth. I now know that she is an utter buffoon, but I initially trusted her judgment, which is so unfortunate because she doesn't think. She also had plenty of coupons for free or deeply discounted bags, which made it a much more attractive choice.<br /><br />I first tried feeding the little Bean an unmeasured amount of Science Diet in a bowl, but that didn't work, as she would devour it in one sitting. So then I took to measuring it, and she did the same thing. Then I started parsing it out to twice a day. That didn't work either, because she would start going crazy in the middle of the day, running around, intentionally destroying things, deliberately spilling her water, crying, etc., until she got more food. So then I split it into three servings. Same thing. Then it got to be four servings. That was a little better, but it was too much maintenance and unrealistic to be around every day to feed her four times. So then it went back to three. All the while, I was trying to reduce the amount of food I was feeding her to less than 3/4 of a cup because she was a little chubby. Reducing was hell. She became even more hungry, but I figured she would get used to it. Not really.<br /><br />For over a year, she would wake me up every morning looking for food in a serious way, knocking things off my desk, ripping up any paper she could find, scratching at the door and committing general acts of mischief. As soon as she got food, she was back to her sweet self, but only for three or four hours.<br /><br />We thought she was bored, we thought she was a little nutty, and maybe even had a kitty eating disorder. She always wanted food. It was kind of funny but in the end it was just sad.<br /><br />A few weeks back, we took her to a new (good, non-money factory) vet for her second checkup since I've had her. I talked with him about her being always hungry. He asked what she ate, and I told him the adult indoor Science Diet. Without saying as much, he basically told me that this food is garbage and I should look for something else. He said cat food should have a protein followed by a carbohydrate as the first two ingredients. Science Diet does, in a very loose, by-product kind of way - ground up slaughterhouse leftovers and corn dust. Then they put a bunch of vitamins in it to make it \"healthy,\" instead of just using good ingredients from the beginning. Not that I care about spending money on the Bean, but this food is way too expensive for what it is.<br /><br />So we began transitioning her onto Wellness indoor formula about two weeks ago. She is still eating 50 percent Science Diet with 50 percent Wellness (you really shouldn't just give a cat different food one day out of the blue) but SHE NEVER FREAKS OUT ANYMORE. It's amazing. And it's 100 percent because she is eating real food now, along with that sawdust and chicken hearts I still regrettable have to feed her. We have her down to eating twice a day, only 1/3 cup in TOTAL. She was eating three times a day, 5/8 of a cup in total. Now she eats some in the morning, walks away, eats some more a few hours later, and then looks for dinner about twelve hours after her initial feeding. No more knocking things over, no more trashing Dad's papers on the desk, no more howling, no more deliberately spilled water on the floor. It's incredible.<br /><br />I feel so bad that I was doing this to her for so long. We really thought she was just being dramatic or whatever. But no, she was genuinely hungry because she wasn't eating any real food.<br /><br />Do your cat a favor - buy her or him so food made with real ingredients, things you would eat - Wellness, Halo, Innova, Evo, whatever. Figure it out for yourself, but please don't feed your cat this. It's garbage.\n",
      "\n",
      "\n",
      "This review will make me sound really stupid, but whatever. I don't really care as long as people find out what's real and can avoid my mistakes.<br /><br />I got my wonderful little sweet Bella Bean when she was a few days shy of three years old. She had been bounced around from house to house and eating whatever was cheap. I have had cats around me my entire life, for about twenty-five years now. My mother always just fed them whatever, the kinds of food you buy in the supermarket - Friskies, Nine Lives, Kit & Kaboodle, stuff like that. And our cats were always fine, at least in terms of their eating habits. They would eat in the morning, stop when they were done, come back, and eat some more when they got hungry.<br /><br />My housemate at the time was working for Hill's and assured me that this was the best food ever made, so great, so on and so forth. I now know that she is an utter buffoon, but I initially trusted her judgment, which is so unfortunate because she doesn't think. She also had plenty of coupons for free or deeply discounted bags, which made it a much more attractive choice.<br /><br />I first tried feeding the little Bean an unmeasured amount of Science Diet in a bowl, but that didn't work, as she would devour it in one sitting. So then I took to measuring it, and she did the same thing. Then I started parsing it out to twice a day. That didn't work either, because she would start going crazy in the middle of the day, running around, intentionally destroying things, deliberately spilling her water, crying, etc., until she got more food. So then I split it into three servings. Same thing. Then it got to be four servings. That was a little better, but it was too much maintenance and unrealistic to be around every day to feed her four times. So then it went back to three. All the while, I was trying to reduce the amount of food I was feeding her to less than 3/4 of a cup because she was a little chubby. Reducing was hell. She became even more hungry, but I figured she would get used to it. Not really.<br /><br />For over a year, she would wake me up every morning looking for food in a serious way, knocking things off my desk, ripping up any paper she could find, scratching at the door and committing general acts of mischief. As soon as she got food, she was back to her sweet self, but only for three or four hours.<br /><br />We thought she was bored, we thought she was a little nutty, and maybe even had a kitty eating disorder. She always wanted food. It was kind of funny but in the end it was just sad.<br /><br />A few weeks back, we took her to a new (good, non-money factory) vet for her second checkup since I've had her. I talked with him about her being always hungry. He asked what she ate, and I told him the adult indoor Science Diet. Without saying as much, he basically told me that this food is garbage and I should look for something else. He said cat food should have a protein followed by a carbohydrate as the first two ingredients. Science Diet does, in a very loose, by-product kind of way - ground up slaughterhouse leftovers and corn dust. Then they put a bunch of vitamins in it to make it \"healthy,\" instead of just using good ingredients from the beginning. Not that I care about spending money on the Bean, but this food is way too expensive for what it is.<br /><br />So we began transitioning her onto Wellness indoor formula about two weeks ago. She is still eating 50 percent Science Diet with 50 percent Wellness (you really shouldn't just give a cat different food one day out of the blue) but SHE NEVER FREAKS OUT ANYMORE. It's amazing. And it's 100 percent because she is eating real food now, along with that sawdust and chicken hearts I still regrettable have to feed her. We have her down to eating twice a day, only 1/3 cup in TOTAL. She was eating three times a day, 5/8 of a cup in total. Now she eats some in the morning, walks away, eats some more a few hours later, and then looks for dinner about twelve hours after her initial feeding. No more knocking things over, no more trashing Dad's papers on the desk, no more howling, no more deliberately spilled water on the floor. It's incredible.<br /><br />I feel so bad that I was doing this to her for so long. We really thought she was just being dramatic or whatever. But no, she was genuinely hungry because she wasn't eating any real food.<br /><br />Do your cat a favor - buy her or him so food made with real ingredients, things you would eat - Wellness, Halo, Innova, Evo, whatever. Figure it out for yourself, but please don't feed your cat this. It's garbage.\n",
      "\n",
      "\n",
      "This review will make me sound really stupid, but whatever. I don't really care as long as people find out what's real and can avoid my mistakes.<br /><br />I got my wonderful little sweet Bella Bean when she was a few days shy of three years old. She had been bounced around from house to house and eating whatever was cheap. I have had cats around me my entire life, for about twenty-five years now. My mother always just fed them whatever, the kinds of food you buy in the supermarket - Friskies, Nine Lives, Kit & Kaboodle, stuff like that. And our cats were always fine, at least in terms of their eating habits. They would eat in the morning, stop when they were done, come back, and eat some more when they got hungry.<br /><br />My housemate at the time was working for Hill's and assured me that this was the best food ever made, so great, so on and so forth. I now know that she is an utter buffoon, but I initially trusted her judgment, which is so unfortunate because she doesn't think. She also had plenty of coupons for free or deeply discounted bags, which made it a much more attractive choice.<br /><br />I first tried feeding the little Bean an unmeasured amount of Science Diet in a bowl, but that didn't work, as she would devour it in one sitting. So then I took to measuring it, and she did the same thing. Then I started parsing it out to twice a day. That didn't work either, because she would start going crazy in the middle of the day, running around, intentionally destroying things, deliberately spilling her water, crying, etc., until she got more food. So then I split it into three servings. Same thing. Then it got to be four servings. That was a little better, but it was too much maintenance and unrealistic to be around every day to feed her four times. So then it went back to three. All the while, I was trying to reduce the amount of food I was feeding her to less than 3/4 of a cup because she was a little chubby. Reducing was hell. She became even more hungry, but I figured she would get used to it. Not really.<br /><br />For over a year, she would wake me up every morning looking for food in a serious way, knocking things off my desk, ripping up any paper she could find, scratching at the door and committing general acts of mischief. As soon as she got food, she was back to her sweet self, but only for three or four hours.<br /><br />We thought she was bored, we thought she was a little nutty, and maybe even had a kitty eating disorder. She always wanted food. It was kind of funny but in the end it was just sad.<br /><br />A few weeks back, we took her to a new (good, non-money factory) vet for her second checkup since I've had her. I talked with him about her being always hungry. He asked what she ate, and I told him the adult indoor Science Diet. Without saying as much, he basically told me that this food is garbage and I should look for something else. He said cat food should have a protein followed by a carbohydrate as the first two ingredients. Science Diet does, in a very loose, by-product kind of way - ground up slaughterhouse leftovers and corn dust. Then they put a bunch of vitamins in it to make it \"healthy,\" instead of just using good ingredients from the beginning. Not that I care about spending money on the Bean, but this food is way too expensive for what it is.<br /><br />So we began transitioning her onto Wellness indoor formula about two weeks ago. She is still eating 50 percent Science Diet with 50 percent Wellness (you really shouldn't just give a cat different food one day out of the blue) but SHE NEVER FREAKS OUT ANYMORE. It's amazing. And it's 100 percent because she is eating real food now, along with that sawdust and chicken hearts I still regrettable have to feed her. We have her down to eating twice a day, only 1/3 cup in TOTAL. She was eating three times a day, 5/8 of a cup in total. Now she eats some in the morning, walks away, eats some more a few hours later, and then looks for dinner about twelve hours after her initial feeding. No more knocking things over, no more trashing Dad's papers on the desk, no more howling, no more deliberately spilled water on the floor. It's incredible.<br /><br />I feel so bad that I was doing this to her for so long. We really thought she was just being dramatic or whatever. But no, she was genuinely hungry because she wasn't eating any real food.<br /><br />Do your cat a favor - buy her or him so food made with real ingredients, things you would eat - Wellness, Halo, Innova, Evo, whatever. Figure it out for yourself, but please don't feed your cat this. It's garbage.\n",
      "\n",
      "\n",
      "This review will make me sound really stupid, but whatever. I don't really care as long as people find out what's real and can avoid my mistakes.<br /><br />I got my wonderful little sweet Bella Bean when she was a few days shy of three years old. She had been bounced around from house to house and eating whatever was cheap. I have had cats around me my entire life, for about twenty-five years now. My mother always just fed them whatever, the kinds of food you buy in the supermarket - Friskies, Nine Lives, Kit & Kaboodle, stuff like that. And our cats were always fine, at least in terms of their eating habits. They would eat in the morning, stop when they were done, come back, and eat some more when they got hungry.<br /><br />My housemate at the time was working for Hill's and assured me that this was the best food ever made, so great, so on and so forth. I now know that she is an utter buffoon, but I initially trusted her judgment, which is so unfortunate because she doesn't think. She also had plenty of coupons for free or deeply discounted bags, which made it a much more attractive choice.<br /><br />I first tried feeding the little Bean an unmeasured amount of Science Diet in a bowl, but that didn't work, as she would devour it in one sitting. So then I took to measuring it, and she did the same thing. Then I started parsing it out to twice a day. That didn't work either, because she would start going crazy in the middle of the day, running around, intentionally destroying things, deliberately spilling her water, crying, etc., until she got more food. So then I split it into three servings. Same thing. Then it got to be four servings. That was a little better, but it was too much maintenance and unrealistic to be around every day to feed her four times. So then it went back to three. All the while, I was trying to reduce the amount of food I was feeding her to less than 3/4 of a cup because she was a little chubby. Reducing was hell. She became even more hungry, but I figured she would get used to it. Not really.<br /><br />For over a year, she would wake me up every morning looking for food in a serious way, knocking things off my desk, ripping up any paper she could find, scratching at the door and committing general acts of mischief. As soon as she got food, she was back to her sweet self, but only for three or four hours.<br /><br />We thought she was bored, we thought she was a little nutty, and maybe even had a kitty eating disorder. She always wanted food. It was kind of funny but in the end it was just sad.<br /><br />A few weeks back, we took her to a new (good, non-money factory) vet for her second checkup since I've had her. I talked with him about her being always hungry. He asked what she ate, and I told him the adult indoor Science Diet. Without saying as much, he basically told me that this food is garbage and I should look for something else. He said cat food should have a protein followed by a carbohydrate as the first two ingredients. Science Diet does, in a very loose, by-product kind of way - ground up slaughterhouse leftovers and corn dust. Then they put a bunch of vitamins in it to make it \"healthy,\" instead of just using good ingredients from the beginning. Not that I care about spending money on the Bean, but this food is way too expensive for what it is.<br /><br />So we began transitioning her onto Wellness indoor formula about two weeks ago. She is still eating 50 percent Science Diet with 50 percent Wellness (you really shouldn't just give a cat different food one day out of the blue) but SHE NEVER FREAKS OUT ANYMORE. It's amazing. And it's 100 percent because she is eating real food now, along with that sawdust and chicken hearts I still regrettable have to feed her. We have her down to eating twice a day, only 1/3 cup in TOTAL. She was eating three times a day, 5/8 of a cup in total. Now she eats some in the morning, walks away, eats some more a few hours later, and then looks for dinner about twelve hours after her initial feeding. No more knocking things over, no more trashing Dad's papers on the desk, no more howling, no more deliberately spilled water on the floor. It's incredible.<br /><br />I feel so bad that I was doing this to her for so long. We really thought she was just being dramatic or whatever. But no, she was genuinely hungry because she wasn't eating any real food.<br /><br />Do your cat a favor - buy her or him so food made with real ingredients, things you would eat - Wellness, Halo, Innova, Evo, whatever. Figure it out for yourself, but please don't feed your cat this. It's garbage.\n",
      "\n",
      "\n",
      "Topic 2:\n",
      "br product amazon like price good sugar just taste store\n",
      "\n",
      "\n",
      "Oatmeal is good for you, but I have always hated the taste.  The Maple & Brown Sugar flavor of Quaker Instant Oatmeal has always been my favorite way to eat it.  I started with the regular version, then moved to the Lower Sugar option, and have finally settled on the Weight Control variety.  The Weight Control tastes great and smells like waffles.<br /><br />One reviewer of this product was disappointed by the fact that when he compared the Weight Control version to the regular Quaker Instant Oatmeal, he realized that Weight Control has the same number of calories (160) and more fat (3g instead of 1g), but you need to analyze the products as a whole.  There may be more fat in the Weight Control, but if you look at the other components of the product, you'll see that Weight Control has fewer calories coming from carbohydrates (29g instead of 33g), BUT it has two times more dietary fiber (6g instead of 3g) and a lot less sugar (1g instead of 13g!).  More dietary fiber and less sugar is what you should really be looking for in your carbs anyway.  Weight Control also has almost twice as much protein as regular (7g instead of 4g).<br /><br />There is more to think about with your food than how much fat it contains.  Quaker Instant Oatmeal Weight Control fit my family's needs, but you should make sure you really look at the different products' nutritional information.  You can compare Quaker's products on their website: [...].\n",
      "\n",
      "\n",
      "This is not kalamata olive oil.<br />1.  Tin has picture of normal olives not kalamata<br />2.  No where on the tin does it say \"kalamata\"<br />3.  Tasted it and it does not taste anything like kalamata Ive had before.<br />4.  The description on site says 100% kalamata.<br />Sending it back.....<br />UPDATE<br />The same day I wrote this review I was contacted by Mr. Alexander Mallas, with SuperOlive.com, the seller. 650-591-1010 .<br />He explained that the product description was written by the Martinis Company,the manufacturer.<br />The Kalamata is the region in Greece where the olives are grown, not necessarily kalamata olives.<br />I never knew there was such a place.  The seller plans on clarifing this in their description.<br />Mr. Mallas did say he attended an olive oil convention in Greece and found that the locals make their own kalamata olive oil for themselves and it is not readily available to the public.  The quest will continue....<br />It was a pleasure discussing the many different grades and types of olive oil. I plan on reading the book,<br />Extra Virginity: The Sublime and Scandale, by Tom Mueller, which he recommended.  I heard the program on NPR, with this review.<br />The Martinis oil I have he said I can keep, with an acidy level of .8 ( whatever that means ) I would only use it to fry fish, or other foods.<br />I am satisfied with the response, in fact Mr. Mallas is a colorfull man, and would look forward to another discussion after completing my<br />education.  Olive ON....\n",
      "\n",
      "\n",
      "The reason I purchased this product is for the \"No Sugar Added\" clause. I am annoyed with all the sugar that is added in almost everything. Every kids cocoa drink has too much sugar added. After I tasted my first drink, it felt  too sweet and had an after taste. The taste of an artificial sweetener. After checking the ingredients, I noticed it contains \"Sucralose\". According to Wikipedia, Sucralose is 600 sweeter than table sugar! What's the point of buying something that has no sugar added but adding something that's tons of times sweeter? I am not going after the calorie factor. So does Nesquick add 600 times less amount of Sucralose than sugar to get the same sweetness? I don't think so.<br /><br />Another major problem is that Amazon's ingredients section does NOT mention Sucralose. It mentions Aspartame which, according to Wikipedia, it's 100-150 times sweeter than sugar, which means much less sweeter than Sucralose. So did Nesquick change their ingredients and Amazon did not update their ingredients list?\n",
      "\n",
      "\n",
      "NGREDIENTS: Enriched bleached flour (wheat flour, niacin, reduced iron, thiamin mononitrate, riboflavin, folic acid, may contain malted barley flour), sugar, raisins, wheat bran, partially hydrogenated soybean and cottonseed oils, food starch-modified. Contains 2% or less of the following: honey powder, molasses powder, nonfat milk, soy flour, sodium bicarbonate, sodium aluminum phosphate, salt, propylene glycol monoester, mono-diglycerides, sodium stearoyl lactylate, soy lecithin, caramel color, artificial flavor, high fructose corn syrup, guar gum, corn syrup, xanthan gum.<br /><br />The 2 main ingredients in this delicious muffin mix is flour and sugar there is more sugar in one Muffin then a bowl of Capt. crunch peanut butter cereal.\n",
      "\n",
      "\n",
      "Topic 3:\n",
      "coffee tea cup like green flavor cups taste good strong\n",
      "\n",
      "\n",
      "I have purchased other teas for my Keurig, but none have produced as strong of a flavor as this Bigelow Earl Grey. I have tried all kinds  of brands and blends of tea K-Cups, but none can compare to these. I drink tea rather than coffee, and I like my tea BOLD. I also have found with certain other brands, I ended up with a muddy watter appearance from the K-Cups, but never with Bigelow's. I have never once had a problem with tea leaves in my cup, and never get the \"tea dust\" at the bottom of my cup like with other brands.<br /><br />I would say if you have been disappointed in the past with other Brands of K-Cup Earl Grey, try these. They are the best out there.\n",
      "\n",
      "\n",
      "Love good coffee, but this stuff makes my Keurig seem defective. Just about any other cup the Keurig puts out a decent cup of coffee. But this iced coffee cup does not work in the Keurig. I make far better iced coffee with my cold brew system or coffee press. And, these K-cups are expensive for a bland instant coffee taste.\n",
      "\n",
      "\n",
      "I didn't like this coffee at all.  I like strong, full-flavored coffee and this is not it.  There is mild bitterness and the coffee was slightly weak.  So far the only K-cup coffee that I enjoy is the Barista Prima Italian Roast (I think that's the brand), but I wanted something I could order on subscribe and save, so I always had coffee.<br /><br />I ordered the Tully's Italian Roast to see how it is, but it too isn't as good as the other.\n",
      "\n",
      "\n",
      "I'm quite pleased with this. I wondered how the less-plastic design would work, but it worked just fine. The coffee is bold without being a dark roast. So there is no problem using the large cup setting. The price per cup is the best I've found. It seems they economize with the k-cup design and not by skimping on the amount of coffee. Of course you're buying 80 cups, so you hope you're going to like it. So far, I do.\n",
      "\n",
      "\n",
      "Topic 4:\n",
      "like taste flavor just good great really love tried don\n",
      "\n",
      "\n",
      "We have been fans of the PEELED SNACKS product line for years now. We love their line of organic dried fruits. We really appreciate having a snack that not only is delicious but is organic and has no added sugar. Kind of nice that the taste is really high but the calories are really low. Now we have discovered that PEELED SNACKS has a new product: Apple Crunch. Wow! We are in love again! Apple taste with a really fun crunch. Not only a fantastic healthy and delicious snack but really fun to eat! If you take your peeled snacks to the movies, as we do, be sure to chew your apple clusters with your lips closed or everybody in the theater will be looking at you! Maybe you should take a few extra packages to share. Thank you PEELED SNACKS for giving us not only tasty and healthy snacks but clusters that are just fun, fun, fun to eat! We are a senior citizen couple and take great care to eat healthy. We appreciate that the entire PEELED SNACKS line lets us snack while having fun and not having to worry about sugar and our waistlines. We can't wait to see what the folks at PEELED SNACKS have in line for us next. Until then, we have a lot to enjoy!\n",
      "\n",
      "\n",
      "I like salted cashews to begin with...and I just discovered that a good sprinkling of pepper makes them even better.  The taste is great. All that fruity sweetness in a cashew is brought out by the pepper. These nuts have plenty of salt and enough paper to leave the tiniest burn on the tongue.  The peppery flavor enhances the taste of the cashew and heat is just the right intensity. If you have an ultra-sensitve or immature palette and cannot abide anything spicy, you may want to give these a miss. But if like a little bite in your bite, you'll gobble these goodies down. Serve them with beer, alongside a sandwich plate, or tossed on top of any salad. They'll add a little crunch and terrific flavor.  I liked the Cocoa-poweder dusted almonds that Emerald recently introduced. They are subtle, unusual and delicate. These cashews, on the other hand, are bold...all that salt and pepper pack a lot of flavor into every nut.  The taste is so intense that one handful is very satisfying...good news for us who like to watch our calories.\n",
      "\n",
      "\n",
      "despite all the reviews i tried them. i heard about them on dr oz and i actually made them like the package said to and i made the shrimp alfredo that was on dr oz and it was great! the noodles have a different texture to them when you are chewing but it is not at all gross or unappetizing. now dont be discouraged when you get them they look really weird, and when you open them they have a light fishy smell.. reminds me of when you catch a fish out of a pond that smell of the fish.. but its not that bad. kinda funny when you get someone else to smell it.. haha.. anywho when you fix these noodles you need to fix 2-3 bags because most of the bags are water and not enough noodles. and it says to blanch them in boiling water for a minute.. i did mine for about 4 mins and they were great. they really taste like nothing if you just try a piece after you boil them. and they take in all the flavors of the food you are adding them to great. i WOULD NOT make them like speghetti it is not going to be like you think. i put a jar of sauce in them and ugh not good.. but i also made homemade sauce and it was great.. i dont know if its the premade stuff or not..\n",
      "\n",
      "\n",
      "Pop-Chips are VERY GOOD!  I'm on a mission to lose weight and these have replaced high calorie snacks.  I think I even like these better than regular chips!  The BBQ, Salt & Vinegar, and Cheddar are really good alone (and I'm not normally a BBQ chip person).  I tend to eat the Original, Sour Cream & Onion , and the Salt & Pepper with Laughing Cow Cheese as a dip.  I don't really care for the salt & pepper as much as the others because I don't really like pepper in general and these are very peppery.  I wish they would replace the salt & pepper with the parmesan garlic flavor.<br /><br />Also, I like to buy these small packages to limit my portion size, but also because there are a lot of chips in this one little bag.  It also makes it really convenient for me to grab a few bags and take them to work or throw a few in the car.  I don't have kids but the small bags would be nice for kids as well.\n",
      "\n",
      "\n"
     ]
    }
   ],
   "source": [
    "print(\"\\n\\nLDA Topics \\n\\n\")\n",
    "display_topics(lda_H, lda_W, tf_feature_names, documents, no_top_words, no_top_documents)"
   ]
  },
  {
   "cell_type": "code",
   "execution_count": 292,
   "id": "14320406",
   "metadata": {},
   "outputs": [],
   "source": [
    "#SVD\n",
    "lsi_model = TruncatedSVD(n_components=no_topics, n_iter=7, random_state=42).fit(tf)\n",
    "lsi_W = lsi_model.transform(tf)\n",
    "lsi_H = lsi_model.components_"
   ]
  },
  {
   "cell_type": "code",
   "execution_count": 293,
   "id": "e1389547",
   "metadata": {},
   "outputs": [
    {
     "name": "stdout",
     "output_type": "stream",
     "text": [
      "\n",
      "\n",
      "LSI Topics \n",
      "\n",
      "\n",
      "Topic 0:\n",
      "br like food just product taste coffee good tea flavor\n",
      "\n",
      "\n",
      "I must admit, I haven't gotten many gift baskets in my time. If this one is any indication of what a gift basket is like, Iam not missing anything!!!!<br /><br />To start with, the gift basket is wrapped in cellophane, with a wide dark brown ribbon, with a sticker that says Back Mountain Gift Baskets.  The basket looks like a generic, cheap looking Easter basket, with two handles, one on each side of the basket.  Iam not sure what they are made of.  Inside where the items are, they are nestled in what looks like straw.<br /><br />Now, on to the items inside.<br /><br />1.  A wrapped box that says Kenzi All Natural Dark Napolitans.  Inside that is a box of Raisinettes.  Inside of that is 6 individual, small, solid dark chocolate, thin, red  wrapped bars, which had a gray tinge to them.<br /><br />2.  Next was a wrapped Chocolate Chip Crispie Marshmallow Bar it said on the package.  Inside was a box of Goya Spanish Flan Style Custard..  Inside that was a rice crispie bar with small chocolate chips.  I took a bite of it.  It was not nearly as good as the rice crispie bars you can make at home.  Not by a longshot!!<br /><br />3.  Next was a box of Venus Stoned Wheat Wafers. Inside were 3 cracker wafers.<br /><br />4.  Next was a Lindt Lindor Truffles Mint Chocolate package.  There were 3 inside, individually wrapped.<br /><br />5.Next was a Belgin Truffles box, with 4 individually wrapped inside.<br /><br />6.  Next was a Italian Herb Cheese Spread Box, 3.5 ounces, in a white plastic container.<br /><br />7.  Next was a box of Caramels Fleur De Sel.  Inside that was a box of Crystal Light Lemonade Box.  Inside that was 5 individually wrapped caramels.<br /><br />8.  Next was a box of Ferrara Milk Chocolate Covered Raisins Box, with grayish what looks like covered raisins.<br /><br />9.  Next was a box that said Milk Chocolate Napolitans.  Inside that was a Royal box of cherry gelatin.  Inside that is 6 individual, thin, small brown wrapped bars.  Like the Dark, Kenzi All Natural Napolitans.  They too had a grayish tinge to them.<br /><br />10.  Next was a box of Cafe Vergnano 1882 Biscoffee Bars. Inside was 4 Coffee Vergano thin, solid packaged bars.  Not sure it it's coffee or not.<br /><br />11 and 12.  Next was a one ounce bag of Trophy Farms All Natural Oven Roasted Peanuts, and a one ounce bag of Trophy Farms All Natural Fruit and Nuts.<br /><br />13.  Next was a sachet type box of Ernest Hemingway Highland Select Tea with 4 individually wrapped Ernest Hemingway tea bags.<br /><br />14.  Next was a box that said Stauffer's Original Recipe Ginger Snaps.  Inside was a box that said Stauffer's Original Animal Crackers.  Inside of that was a 2.3 ounce package of Stauffer's Original Recipe Ginger Snaps.<br /><br />I didn't see any coffee that I know of, and I definitely did not see any salami as stated in the description that I read.<br /><br />When I asked to receive this basket, by the description it sounded like it would be a United Nations Basket, with items from other countries which intrigued me.  Instead each item was made in the United States.<br /><br />Sadly, I would have much preferred the fake boxes of Jello, Crystal Light, Flan Custard, and Animal Crackers, rather than what the real items was.  At least I recognized the fake boxes, and they would have actually been something I could have used.<br /><br />What I got, most of it I plan to throw away.<br /><br />If in the description it says with a celebration in mind, the joke is on me, or I didn't get the joke, even tho I do have a good sense of humor.<br /><br />The endless unwrapping of each item, I wouldn't have minded if they had been quality items, but when I was finished unwrapping everything I was  just glad it was over!!<br /><br />I don't at this point know what this gift basket will be selling for, but to me, even a dollar would be too much!<br /><br />This basket was more like a gag gift to me.  I didn't find it funny at all!! I definitely would NOT send this to someone else, especially if it were someone I loved, or even liked, unless you are trying to get even with someone, but I couldn't even do that!<br /><br />In a nutshell, I am disappointed, to say the least! This just proves to me, that what you see online when you order something, it may not be what you thought at all when you actually do receive what you ordered!!<br /><br />These are my opinions only.  Someone else might enjoy this gift basket. I didn't!  It's cheap looking, the items inside are cheap looking, etc.<br /><br />UPDATE:  I did receive another gift basket today. The one that I received today was NOT the same gift basket that I had received when I wrote my original review above.<br /><br />By that I mean the gift basket that I received today was NOT the original one that I got, not the prototype above, but not even the same gift basket that I had received minus the wierdness, tackyness, and about a hundred other words that I could write to give a description of the FIRST nightmare of a gift basket that I had received.<br /><br />The only similarity from the original gift basket and then this second gift basket is that it's the same gift basket, but the one I received today is a darker color.  Everything else about it is the same as the first gift basket I received, the actual basket.<br /><br />There was a note taped to the outside of this gift basket showing that the orginal gift basket I received was a pre-production, prototype, mock-up that was never intended to be released to the general public.  I HOPE NOT!!!<br /><br />It never occured to me that any gift basket I would ever receive would not be the one that anyone else would have received.<br /><br />Obviously this company needs better quality control, because the one I originally received I never would have let it see the light of day, period.<br /><br />I was hoping that the gift basket that I received today would be the one I originally was supposed to receive to see how it really should have been, but the one I got today is an entirely different gift basket all together.<br /><br />The gift basket I received today was one entirely devoted to coffee, period.  It included:<br /><br />1.  A can of Ground Irish Coffee- 1.75 ounces. The brand is Bewley's Of Ireland, but on the back of the can it says Comfort Foods, Inc.  North Andover, MA.  I will be giving this coffee away.  I can't stand anything that is Irish Cream, no matter what it is.<br /><br />2.  3 packets of different ground coffees, each 1.3 ounces, in flavors of Breakfast Blend, Amaretto Royale, and Moca Java, from a company called Arbuckle's.  The city is Verona, PA.  Each packet of coffee is supposed to make about 10 cups of coffee depending on how strong you like it.<br /><br />3. A coffee mug that says a warm mug of Coffee, the best at igourment.com.  Your standard sized mug.  The writing is in a brown color, the mug itself is like an off white/beige color.  I will also be giving this mug away.  It's just not the kind of mug that I use either for coffee or tea.  The mug is ok, for what it is.<br /><br />4.  A small box that says Sugar in the raw, that has 6 packets.  I know I can buy this same brand in any grocery store.<br /><br />4.  A taller box that says Creamer for your coffee.  Inside that box is 10 packets of a generic looking non-dairy creamer.  I will also be giving this away as I don't use powdered creamer at all, but a liquid flavored creamer.<br /><br />5.A taller box that says Coffee Stirrers.  Inside that are 9 wooden coffee stirrers, like a thin popsicle stick. They aren't even plastic coffee stirrers!<br /><br />6.  A roll of King Original Peppermints which I assume is some kind of mints- 1.55 ounces.<br /><br />7.  A box of Caffe' Vergnano 1882 Biscoffee- 0.83 ounces.  I did receive this same thing in my first gift basket.  They taste like almond cookies.  The box says Product of Italy, but on the back of the box the state shown is PA.  Hardly Italy!<br /><br />8.  Several small packets of biscuit type cookies, to have with coffee.  About 6 of those total.<br /><br />In summary this gift basket was not the tacky, etc one like the first gift basket that I received, but I wouldn't call this one great either.  I wouldn't send this gift basket to anyone I know.  It doesn't look gourmet to me at all.<br /><br />The only things I will be keeping are the packets of coffee, the sugar in the raw, tho as a rule I don't use sugar period, and never in coffee.  I just use flavored liquid creamer in my coffee, and maybe the basket.  The rest I will be giving away.<br /><br />It's really hard to give an update since this second gift basket is not like the first one I received as far as the contents of the basket.<br /><br />I hate to say this, and I will leave it up to anyone who cares to read my review as to if they want to purchase either of these gift baskets or any others from this company, but I  don't like this company, period.<br /><br />They lack any imagination as far as the products/packaging they include in their gift baskets, which if I had to rate the gift baskets based soley on the contents of what was included in either gift basket, I would have to say the first gift basket I received had more variety than this second gift basket did.  I could see what the contents of the first gift basket would have contained, minus all of the wierd packaging that it had, tho some of the products of that one looked old, non-edible.  I threw most of that one away, period.  I didn't even give any of that gift basket away.<br /><br />My real question and my summary of this company is if it's named igourmet, where is the gourmet in their products?  Also, they are supposed to be products that are not from the U.S.A., but once again both gift baskets contained items only from the U.S.A.<br /><br />Most of what they include in their gift baskets, I could find either the same products or higher quality products than theirs in any grocery store.<br /><br />Like I said, it's hard to update a review if the gift baskets are entirely different, how can you compare them to post a review?  All I can do which is what I did in my first review, and that is to state what products were included in this second gift basket, and leave the rest of it up to any potential buyers out there who are considering purchasing a gift basket from this or any other company.<br /><br />I do appreciate getting a second gift basket, which after the first one I was kind of dreading what I would receive in this second gift basket, but this one too does NOT have any wow factor, or quality look to it.<br /><br />To me, especially if it were something like a gift basket it would not only be about the products included, which would be high quality products, but quality packaging too which I enjoy trying products from other companies, perhaps products I had never tried before, but to me it's not only about the items included in the gift basket, but the presentation too matters to me.  It shouldn't show cheap.<br /><br />Also, I don't understand how any company who specializes in gift baskets would include items that you could easily find in any grocery store, but their's is lower quality.<br /><br />How much thought goes into this companies gift baskets?  If I were a company who made gift baskets, I would want it to look like alot of thought went into what they included in their gift basket, from the items they include to their packaging, etc.  It's the total package that matters to me in the end.  I would want my gift baskets to be memorable, thoughtful and enjoyable.  With this company their gift baskets are forgettable, sadly.<br /><br />If I had to rate this second gift basket by how many stars I would give it, I would have to give it a 2, and that is being generous.<br /><br />Sorry, that is just how I see it!\n",
      "\n",
      "\n",
      "There is a recent recall on Diamond Pet Foods.<br /><br />Recall Information<br /><br />UPDATED: CORRECT PRODUCTION CODE INFORMATION<br /><br />Diamond Pet Foods Expands Voluntary Recall of Dry Pet Food Due to Potential  Salmonella Contamination<br /><br />Batches of the brands manufactured between December 9, 2011 and April 7, 2012 are affected<br /><br />PLEASE VISIT DIAMONDPETRECALL.COM FOR MORE INFORMATION AND UPDATES.<br /><br />Consumer Contact: 866-918-8756<br /> Media Contact: 816-255-1974<br /><br />FOR IMMEDIATE RELEASE - May 5, 2012<br /><br />Diamond Pet Foods today announced that it is expanding a voluntary recall to include batches of nine brands of dry pet food formulas manufactured between December 9, 2011 and April 7, 2012 due to potential Salmonella contamination.<br /><br />In April 2012, Diamond Pet Foods initiated three voluntary recalls of Diamond manufactured dry dog food. Although none of the additional products being recalled have tested positive for Salmonella, the company is pulling them from store shelves as a precaution. Diamond Pet Foods is coordinating efforts with federal and state health and regulatory agencies and decided to independently expand the recall to ensure the safety and well-being of customers and their pets.<br /><br />The company stated: \"We have taken corrective actions at our Gaston, S.C., facility and voluntarily expanded the recall out of concern for our customers and their pets.\"<br /><br />Brands included in the recall include:<br /> *Chicken Soup for the Pet Lover's Soul<br />*Country Value<br />*Diamond<br />*Diamond Naturals<br />*Premium Edge<br />*Professional<br />*4Health<br />*Taste of the Wild<br /><br />To determine if their pet food is recalled, consumers should check the production code on their bag. If the code has a \"2\" or \"3\" in the 9th position AND an \"X\" in the 10th or 11th position, the product is affected by the recall. The best-before dates for the recalled products are December 9, 2012 through April 7, 2013.<br /><br />The following graphic is an example of how to read the production code and best before date:<br /><br />The recall affects only products distributed in the following U.S. states and Canada.  Further distribution through other pet food channels may have occurred.<br /> *Alabama<br />*Florida<br />*Georgia<br />*Indiana<br />*Kentucky<br />*Massachusetts<br />*Maryland<br />*Michigan<br />*Mississippi<br />*New York<br />*North Carolina<br />*Ohio<br />*Pennsylvania<br />*South Carolina<br />*Tennessee<br />*Virginia<br />*Canada<br /><br />The Kirkland Signature products included in the recall include:<br /> *Kirkland Signature Super Premium Adult Dog Lamb, Rice & Vegetable Formula (Best Before December 9, 2012 through January 31, 2013)<br />*Kirkland Signature Super Premium Adult Dog Chicken, Rice & Vegetable Formula (Best Before December 9, 2012 through January 31, 2013)<br />*Kirkland Signature Super Premium Mature Dog Chicken, Rice & Egg Formula (Best Before December 9, 2012 through January 31, 2013)<br />*Kirkland Signature Super Premium Healthy Weight Dog Formulated with Chicken & Vegetables (Best Before December 9, 2012 through January 31, 2013)<br />*Kirkland Signature Super Premium Maintenance Cat Chicken & Rice Formula (Best Before December 9, 2012 through January 31, 2013)<br />*Kirkland Signature Super Premium Healthy Weight Cat Formula (December 9, 2012 through January 31, 2013)<br />*Kirkland Signature Nature's Domain Salmon Meal & Sweet Potato Formula for Dogs (December 9, 2012 through January 31, 2013)<br /><br />To determine if their pet food is recalled, consumers should check the production code on their bag. If the code has both a \"3\" in the 9th position AND an \"X\" in the 11th position, the product is affected by the recall. The best-before dates for the recalled products are December 9, 2012 through January 31, 2013.<br /><br />UPDATE:<br /><br />For Kirkland Signature product sold in Taiwan, if the best-before dates fall between June 9, 2012 and July 31, 2012, the bag is affected. The same production code elements apply to the recalled products.<br /><br />The recall affects only products distributed in the following U.S. states, Puerto Rico and Canadian provinces:<br /> *Alabama<br />*Connecticut<br />*Delaware<br />*Florida<br />*Georgia<br />*Maryland<br />*Massachusetts<br />*New Brunswick, Canada<br />*New Hampshire<br />*New Jersey<br />*New York<br />*Newfoundland, Canada<br />*North Carolina<br />*Nova Scotia, Canada<br />*Ontario, Canada<br />*Pennsylvania<br />*Quebec, Canada<br />*South Carolina<br />*Tennessee<br />*Vermont<br />*Virginia<br />*Puerto Rico<br /><br />Diamond Pet Foods apologizes for any issues this may cause consumers and their pets. Pet owners who are unsure if the product they purchased is included in the recall, or who would like replacement product or a refund, may contact Diamond Pet Foods via a toll free call at 1-866-918-8756, Monday through Sunday, 8 a.m. - 6 p.m. EST.  Consumers may also go to a special website, diamondpetrecall.com, for more information. The company is working with distributors and retailers to ensure all affected product is removed from shelves.<br /><br />Pets with Salmonella infections may have decreased appetite, fever and abdominal pain. If left untreated, pets may be lethargic and have diarrhea or bloody diarrhea, fever and vomiting. Infected but otherwise healthy pets can be carriers and infect other animals or humans. If your pet has consumed the recalled product and has these symptoms, please contact your veterinarian.<br /><br />Individuals handling dry pet food can become infected with Salmonella, especially if they have not thoroughly washed their hands after having contact with surfaces exposed to this product. People who believe they may have been exposed to Salmonella should monitor themselves for some or all of the following symptoms: nausea, vomiting, diarrhea or bloody diarrhea, abdominal cramping and fever. According to the Centers for Disease Control, people who are more likely to be affected by Salmonella include infants, children younger than 5 years old, organ transplant patients, people with HIV/AIDS and people receiving treatment for cancer. The U.S. Centers for Disease Control (CDC) have received a limited number of reports of salmonellosis, the illness caused by Salmonella. We are working with the CDC, but due to patient confidentiality, we cannot comment further.<br /><br /># # #<br /><br />__________________________________________________________________________________________________________<br /><br />For more information, please visit [...]\n",
      "\n",
      "\n",
      "I bought these one day when I was craving a bagel, wanted something with whole grain, and I was, well, being lazy. I really wanted a bagel but I didn't feel like going to a bagel shop. I was already in the grocery store, walking through the bread isle, so it was an impulse buy pure and simple. In short, I was extremely disappointed. For my full review, see below.<br /><br />I have to think the only reasons anyone would give this product a good rating is either because they've never eaten a real bagel or they're in denial and are allowing themselves to think it's good because they're so desperate for a way to eat what they think is a bagel and still feel like they're eating healthy. Well, it's not a \"real\" bagel (not even close) and it's not even healthy. Why do I say this?<br /><br />~<br /><br />NOT A REAL BAGEL:<br /><br />The only similarities between Thomas' Bagels (or Bagel Thins) and real bagels is the round shape and the whole in the middle. Other than that these so-called bagels are nothing more than fluffy bread shaped like  a bagel. Upon close inspection and taste-testing it looks, tastes, and feels just like regular bread. It's extremely bland, even with the \"whole wheat\" it supposedly includes. I'm from an area of the country that makes REAL BAGELS (NYC and surrounding area) so I know what I speak of.<br /><br />True, traditional bagels should not be whole wheat, but I have eaten a whole wheat bagel made in a real bagel shop and these aren't even close to a real bagel. I've been eating true bagels made by hand for over 50 years. When you compare these things to real bagels it's almost a joke to call these things bagels.<br /><br />Bagels should be dense, chewy, and stiff. This is not. This is a limp, soft piece of floppy fluffy bread. I could ball one up in my hand like Wonder bread, that's how fluffy and soft they are. And bagels should be crispy when toasted. This is not, unless you over toast it to the point it's nearly burnt.<br /><br />~<br /><br />NOT HEALTHY:<br /><br />One of the reasons I bought these specific \"bagels\" was for the whole wheat. I thought it would be healthier than a regular bagel. WRONG! It contains stuff in it that I've never even heard of before and I'm sure are not \"healthy\" or wholesome ingredients. Like datem - what the heck is DATEM? It also contains stuff that shouldn't be in a bagel.<br /><br />~<br /><br />INGREDIENTS:<br /><br />Basic bagels should contain wheat flour, salt, water, and yeast leavening. That's it!<br /><br />REAL BAGELS CONTAIN:<br />Wheat Flour<br />Salt<br />Water<br />Yeast<br /><br />THOMAS' CONTAINS:<br />Wheat Flour<br />Water<br />Sugar<br />Wheat Gluten<br />Flaked Wheat<br />Cellulouse Fiber<br />Cornmeal<br />Yeast<br />Wheat Bran<br />Salt<br />Preservatives (calcium propionate, sorbic acid)<br />Monoglycerides<br />Guar Gum<br />Sodium Stearoyl Lactylate<br />Datem<br />Soybean Oil<br />Soy Flour<br /><br />Now, I do realize some of the non-traditional ingredients found in these \"bagels\" are there because they are supposed to be a \"whole wheat\" product (traditional bagels are not whole wheat), but that does not excuse the Cornmeal, Guar Gum, Datem, Soy Flour, Soy Oil, Sodium Stearoyl Lactylate, Monoglycerides, Calcium Propionate, and Sorbic Acid.<br /><br />~<br /><br />BOTTOM LINE:<br /><br />If you want a bagel go to a bagel shop. If you live in an area where they are not made (or not made correctly) I suggest you make friends with someone in NY and ask them to send you a box of bagels. Even if you freeze them and eat them later they'll taste 100% better than any grocery store bagel I'm sure.<br /><br />I'll most likely get myself some real bagels from a real bagel shop in the near future, and when I do I'll post photos or a video that shows the difference - which will tell you a lot because these things are so bad you can tell just from a photo, you don't even have to taste them (although I did).\n",
      "\n",
      "\n",
      "And we find her here upon this grand amazon!<br /><br />Each day Morinu feeds me like my own nourishing mother, cherishes and consents my whims with this wonderful food.<br /><br />Eschew all animal byproducts and cadavers.<br /><br />This tofu is a strengthening food, fit for human consumption.<br /><br />And so convenient from our mighty amazon, sent right to your front porch or, in my case, post office box with free shipping rather than driving thirty to seventy five miles for the same product at three times the price, plus gas.<br /><br />This is fit food for humans, food for which our bodies are created, food which feeds us rather than kills both the source and the consumer.<br /><br />You may read here written by the self-deceived that this tofu is too mushy for firmness and that it must be pressed between towels before cooking. To them so confused I ask<br /><br />Cooking?<br /><br />Each day at least once a day, I draw forth my serrated knife, and one sacrificial box of this excellent tofu, and I without remorse slice a hole in its top, with great tenderness and care and gratitude, releasing only the slightest and most apologetic gentle spurt of clearest liquid.<br /><br />And this with a certain yearning.<br /><br />I do not observe the indications written sternly upon the short edge of the box, but lie this box gently down upon a smooth flat slab of wood, with the face up, and take the knife very gently sliding upon on edge of the top, the very belly of the box, and then upon the other edge of this top, and then most gently along the bottom edge of this top, each time releasing apologetically the slightest hint of a clear liquid, revealing thusly by means of these three slits the gentle hidden secrets of the box, the soft white substance lying shyly within, awaiting with embarrassment our further processing.<br /><br />I feel the need to explain this procedure with greater care and attention. The very tip, the point of the knife, uncovers tenderly a certain point a certain distance from the corner of the broad top of the box, the side with the picture and product label, as pictured here, the side which reads Morinu, the broad flat side laid flat. The very tip of the knife, I say, discovers probingly a certain point near one corner which offers the proper resistance without too great a resistance, without too little a resistance, to penetrate this membrane. Too close to the corner is found to be too hard, too resistant, too unwilling, although most convenient for the later proceedings. Too distant from the corner implies simply random slashings without specific purpose, and our purpose in this procedure is most serious, most purposeful, intent.<br /><br />In a word therefore the point of the knife penetrates the membrane slowly yet purposefully as close to the corner as possible, penetrating as deeply as possible without piercing the wooden slab beneath. A certain spurt of clear liquid may emerge, but let this prove no inhibition, as the knife reaches the depth of the box. Slowly withdraw the knife, slowly, at a diagonal, allowing the serration softly with friction to continue to separate a slight slit along the ege of the box, slowly, resolutely but patiently, with purpose, as the serration creates an ever longer slit along that edge, as closely as possible.<br /><br />Continue from this first slit along the the contiguous edge of the top of this box, and then the third edge, inserting carefully your knife, and slowly withdrawing with a friction sufficient to separate the membrane without shredding, without eliciting over muchly the clear liquid which may spurt forth.<br /><br />Let us call the top right corner of the box Point A, the bottom right corner Point B, the left bottom corner Point C and the upper left corner Point D. Begin to pierce at Point A, proceed in turn to B, to C, ending at D, forming this a slit along the three edges. Arriving at Point D, withdraw the knife completely, wipe the blade with a soft, dry cloth and set it aside for cleansing. We now may lift the flap thus created, exposing the delicate white contents within.<br /><br />I feel remiss if I do not address a probable misconception here writtenonly for the rhetorical convenience, and I feel compelled by the necesity of correcting this counter-indication, no matter how unclear this may be, due only to my severely limiting literary incapacities.<br /><br />Employing the same alphabetical coordinates as described above, the consumer may discover this procedure far more efficacious: to begin at Point A and proceed gently yet firmly to point B as described. Divergently, however, please proceed to point D (!) and then directly by knife edge to point C, parallel to the Line AB already created, yet along the opposing edge. Having thusly formed two parallel slits, find the midpoint between Point B and Point C as close to the edge as possible, probing and then plunging the tip of the knife through the cardboard membrane, through to the bottom of the box, but now with an orientation perpendicular to that previously used in the formation of lines AB and DC. Withdraw slowly, delicately, yet with sufficient friction at an angle to proceed effectively to the corner at Point B. Withdraw completely and reverse the knife blade, returning it deeply at the midpoint previously entered. Withdraw once more with similar care, and opposite diagonal, completing the slit thus formed entirely to Point C. I am confident the consumer may discover this procedure far more delightful and effective than any here previously described.<br /><br />Firmly we roll back the top flap created by the three slits. Proceed mercilessly, proceed, not frenetically, but ardently nevertheless, to dice within the selfsame box her contents, slowly, gently, but decisively. The fresh tip of my serrated knife, which in recent memory has touched no animal part, but vegetable alone, and never shall become so adulterate with the blood of the animal, with the dairy of the animal, this sanctified and reserved and faithful tip, having never known in any sense animal but only vegetable, purified thus, unadulterate, this sacred knife dares therefore pierce this gentle pure white tofu into a ruthless grid of slits, fully through to the bottom box, plunging first vertically in rhythmically repeated rows spaced gently a few centimeters apart, and then, relentlessly, horizontally, pushing ever so softly through the yielding, unresisting white tofu laid back upon the flat slab, awaiting without a word this process, with utter patience, yielding.<br /><br />Completed this repeated slicing, back and forth, up and down, across, and through, and through, I lift in one hand upwards the entire box gently, yet unrelentingly, over the recipient reserved for this purpose alone. Most often it is the daily lunch container, reusable, with soft top, to receive the more securely and gently this daily offering, removed demurely from its box, as cautiously as a hermit crab from its borrowed shell, vulnerable by exposure. With one finger one may remove whatever residue remains relunctly within the package, passing it reassuringly into the ultimate recipient.<br /><br />Lime juice freshly squeezed upon the tofu deposited there, as ablution, meets fragrant sprigs of fresh green cilantro mated with whole <a href=\"http://www.amazon.com/gp/product/B000JMFCRU\">Corriander Seeds 7oz</a>, and a generous ladling of the <a href=\"http://www.amazon.com/gp/product/B000GZU7QQ\">Eden Organic Garbanzo Beans, 15-Ounce Unit (Pack of 12)</a> also available upon this generously nutrient amazon. This is a meal in itself, and comes most welcome at noon.<br /><br />At night rather than such a cold lunch, in this cold winter a warmer meal is wanted, and so this gentle and yielding box of nutritious tofu might discover herself pushed gently into a saucepan of simmering miso soup, such as, perhaps, <a href=\"http://www.amazon.com/gp/product/B001RMB4WI\">Shiro Miso Paste NON GMO No MSG Added</a>. This miso soup would take far greater space to describe here in the making. From this container of miso paste draw forth a goodly spoonful to introduce slowly, most politely, into a gently heating small saucepan of water. Later, in place of seaweed and to deceive my own palate, I place those small flat spinach leaves available in the organic department of your local market, perhaps with the results of a small onion diced very carefully in the manner approved as described above, or green onion.<br /><br />When quite ready for dinner, I add last of all to this essence this gentle box of tofu, sliced as described above, with great and tender care, leaving it bathing one might dare say, only long enough to warm through and through, before eating.<br /><br />A veritable meal in itself.<br /><br />There are so many other manners in which to use, and to abuse, this pure, white and utterly nutritious gentle product, and I can only with my utmost recommendation say, and this with my greatest gratitude, that here at long last we may know a food most willingly fit for our human consumption, and one most readily available upon this wonderful amazon.\n",
      "\n",
      "\n",
      "Topic 1:\n",
      "br gift basket recall 2012 diamond pet december 2013 kirkland\n",
      "\n",
      "\n",
      "There is a recent recall on Diamond Pet Foods.<br /><br />Recall Information<br /><br />UPDATED: CORRECT PRODUCTION CODE INFORMATION<br /><br />Diamond Pet Foods Expands Voluntary Recall of Dry Pet Food Due to Potential  Salmonella Contamination<br /><br />Batches of the brands manufactured between December 9, 2011 and April 7, 2012 are affected<br /><br />PLEASE VISIT DIAMONDPETRECALL.COM FOR MORE INFORMATION AND UPDATES.<br /><br />Consumer Contact: 866-918-8756<br /> Media Contact: 816-255-1974<br /><br />FOR IMMEDIATE RELEASE - May 5, 2012<br /><br />Diamond Pet Foods today announced that it is expanding a voluntary recall to include batches of nine brands of dry pet food formulas manufactured between December 9, 2011 and April 7, 2012 due to potential Salmonella contamination.<br /><br />In April 2012, Diamond Pet Foods initiated three voluntary recalls of Diamond manufactured dry dog food. Although none of the additional products being recalled have tested positive for Salmonella, the company is pulling them from store shelves as a precaution. Diamond Pet Foods is coordinating efforts with federal and state health and regulatory agencies and decided to independently expand the recall to ensure the safety and well-being of customers and their pets.<br /><br />The company stated: \"We have taken corrective actions at our Gaston, S.C., facility and voluntarily expanded the recall out of concern for our customers and their pets.\"<br /><br />Brands included in the recall include:<br /> *Chicken Soup for the Pet Lover's Soul<br />*Country Value<br />*Diamond<br />*Diamond Naturals<br />*Premium Edge<br />*Professional<br />*4Health<br />*Taste of the Wild<br /><br />To determine if their pet food is recalled, consumers should check the production code on their bag. If the code has a \"2\" or \"3\" in the 9th position AND an \"X\" in the 10th or 11th position, the product is affected by the recall. The best-before dates for the recalled products are December 9, 2012 through April 7, 2013.<br /><br />The following graphic is an example of how to read the production code and best before date:<br /><br />The recall affects only products distributed in the following U.S. states and Canada.  Further distribution through other pet food channels may have occurred.<br /> *Alabama<br />*Florida<br />*Georgia<br />*Indiana<br />*Kentucky<br />*Massachusetts<br />*Maryland<br />*Michigan<br />*Mississippi<br />*New York<br />*North Carolina<br />*Ohio<br />*Pennsylvania<br />*South Carolina<br />*Tennessee<br />*Virginia<br />*Canada<br /><br />The Kirkland Signature products included in the recall include:<br /> *Kirkland Signature Super Premium Adult Dog Lamb, Rice & Vegetable Formula (Best Before December 9, 2012 through January 31, 2013)<br />*Kirkland Signature Super Premium Adult Dog Chicken, Rice & Vegetable Formula (Best Before December 9, 2012 through January 31, 2013)<br />*Kirkland Signature Super Premium Mature Dog Chicken, Rice & Egg Formula (Best Before December 9, 2012 through January 31, 2013)<br />*Kirkland Signature Super Premium Healthy Weight Dog Formulated with Chicken & Vegetables (Best Before December 9, 2012 through January 31, 2013)<br />*Kirkland Signature Super Premium Maintenance Cat Chicken & Rice Formula (Best Before December 9, 2012 through January 31, 2013)<br />*Kirkland Signature Super Premium Healthy Weight Cat Formula (December 9, 2012 through January 31, 2013)<br />*Kirkland Signature Nature's Domain Salmon Meal & Sweet Potato Formula for Dogs (December 9, 2012 through January 31, 2013)<br /><br />To determine if their pet food is recalled, consumers should check the production code on their bag. If the code has both a \"3\" in the 9th position AND an \"X\" in the 11th position, the product is affected by the recall. The best-before dates for the recalled products are December 9, 2012 through January 31, 2013.<br /><br />UPDATE:<br /><br />For Kirkland Signature product sold in Taiwan, if the best-before dates fall between June 9, 2012 and July 31, 2012, the bag is affected. The same production code elements apply to the recalled products.<br /><br />The recall affects only products distributed in the following U.S. states, Puerto Rico and Canadian provinces:<br /> *Alabama<br />*Connecticut<br />*Delaware<br />*Florida<br />*Georgia<br />*Maryland<br />*Massachusetts<br />*New Brunswick, Canada<br />*New Hampshire<br />*New Jersey<br />*New York<br />*Newfoundland, Canada<br />*North Carolina<br />*Nova Scotia, Canada<br />*Ontario, Canada<br />*Pennsylvania<br />*Quebec, Canada<br />*South Carolina<br />*Tennessee<br />*Vermont<br />*Virginia<br />*Puerto Rico<br /><br />Diamond Pet Foods apologizes for any issues this may cause consumers and their pets. Pet owners who are unsure if the product they purchased is included in the recall, or who would like replacement product or a refund, may contact Diamond Pet Foods via a toll free call at 1-866-918-8756, Monday through Sunday, 8 a.m. - 6 p.m. EST.  Consumers may also go to a special website, diamondpetrecall.com, for more information. The company is working with distributors and retailers to ensure all affected product is removed from shelves.<br /><br />Pets with Salmonella infections may have decreased appetite, fever and abdominal pain. If left untreated, pets may be lethargic and have diarrhea or bloody diarrhea, fever and vomiting. Infected but otherwise healthy pets can be carriers and infect other animals or humans. If your pet has consumed the recalled product and has these symptoms, please contact your veterinarian.<br /><br />Individuals handling dry pet food can become infected with Salmonella, especially if they have not thoroughly washed their hands after having contact with surfaces exposed to this product. People who believe they may have been exposed to Salmonella should monitor themselves for some or all of the following symptoms: nausea, vomiting, diarrhea or bloody diarrhea, abdominal cramping and fever. According to the Centers for Disease Control, people who are more likely to be affected by Salmonella include infants, children younger than 5 years old, organ transplant patients, people with HIV/AIDS and people receiving treatment for cancer. The U.S. Centers for Disease Control (CDC) have received a limited number of reports of salmonellosis, the illness caused by Salmonella. We are working with the CDC, but due to patient confidentiality, we cannot comment further.<br /><br /># # #<br /><br />__________________________________________________________________________________________________________<br /><br />For more information, please visit [...]\n",
      "\n",
      "\n",
      "I must admit, I haven't gotten many gift baskets in my time. If this one is any indication of what a gift basket is like, Iam not missing anything!!!!<br /><br />To start with, the gift basket is wrapped in cellophane, with a wide dark brown ribbon, with a sticker that says Back Mountain Gift Baskets.  The basket looks like a generic, cheap looking Easter basket, with two handles, one on each side of the basket.  Iam not sure what they are made of.  Inside where the items are, they are nestled in what looks like straw.<br /><br />Now, on to the items inside.<br /><br />1.  A wrapped box that says Kenzi All Natural Dark Napolitans.  Inside that is a box of Raisinettes.  Inside of that is 6 individual, small, solid dark chocolate, thin, red  wrapped bars, which had a gray tinge to them.<br /><br />2.  Next was a wrapped Chocolate Chip Crispie Marshmallow Bar it said on the package.  Inside was a box of Goya Spanish Flan Style Custard..  Inside that was a rice crispie bar with small chocolate chips.  I took a bite of it.  It was not nearly as good as the rice crispie bars you can make at home.  Not by a longshot!!<br /><br />3.  Next was a box of Venus Stoned Wheat Wafers. Inside were 3 cracker wafers.<br /><br />4.  Next was a Lindt Lindor Truffles Mint Chocolate package.  There were 3 inside, individually wrapped.<br /><br />5.Next was a Belgin Truffles box, with 4 individually wrapped inside.<br /><br />6.  Next was a Italian Herb Cheese Spread Box, 3.5 ounces, in a white plastic container.<br /><br />7.  Next was a box of Caramels Fleur De Sel.  Inside that was a box of Crystal Light Lemonade Box.  Inside that was 5 individually wrapped caramels.<br /><br />8.  Next was a box of Ferrara Milk Chocolate Covered Raisins Box, with grayish what looks like covered raisins.<br /><br />9.  Next was a box that said Milk Chocolate Napolitans.  Inside that was a Royal box of cherry gelatin.  Inside that is 6 individual, thin, small brown wrapped bars.  Like the Dark, Kenzi All Natural Napolitans.  They too had a grayish tinge to them.<br /><br />10.  Next was a box of Cafe Vergnano 1882 Biscoffee Bars. Inside was 4 Coffee Vergano thin, solid packaged bars.  Not sure it it's coffee or not.<br /><br />11 and 12.  Next was a one ounce bag of Trophy Farms All Natural Oven Roasted Peanuts, and a one ounce bag of Trophy Farms All Natural Fruit and Nuts.<br /><br />13.  Next was a sachet type box of Ernest Hemingway Highland Select Tea with 4 individually wrapped Ernest Hemingway tea bags.<br /><br />14.  Next was a box that said Stauffer's Original Recipe Ginger Snaps.  Inside was a box that said Stauffer's Original Animal Crackers.  Inside of that was a 2.3 ounce package of Stauffer's Original Recipe Ginger Snaps.<br /><br />I didn't see any coffee that I know of, and I definitely did not see any salami as stated in the description that I read.<br /><br />When I asked to receive this basket, by the description it sounded like it would be a United Nations Basket, with items from other countries which intrigued me.  Instead each item was made in the United States.<br /><br />Sadly, I would have much preferred the fake boxes of Jello, Crystal Light, Flan Custard, and Animal Crackers, rather than what the real items was.  At least I recognized the fake boxes, and they would have actually been something I could have used.<br /><br />What I got, most of it I plan to throw away.<br /><br />If in the description it says with a celebration in mind, the joke is on me, or I didn't get the joke, even tho I do have a good sense of humor.<br /><br />The endless unwrapping of each item, I wouldn't have minded if they had been quality items, but when I was finished unwrapping everything I was  just glad it was over!!<br /><br />I don't at this point know what this gift basket will be selling for, but to me, even a dollar would be too much!<br /><br />This basket was more like a gag gift to me.  I didn't find it funny at all!! I definitely would NOT send this to someone else, especially if it were someone I loved, or even liked, unless you are trying to get even with someone, but I couldn't even do that!<br /><br />In a nutshell, I am disappointed, to say the least! This just proves to me, that what you see online when you order something, it may not be what you thought at all when you actually do receive what you ordered!!<br /><br />These are my opinions only.  Someone else might enjoy this gift basket. I didn't!  It's cheap looking, the items inside are cheap looking, etc.<br /><br />UPDATE:  I did receive another gift basket today. The one that I received today was NOT the same gift basket that I had received when I wrote my original review above.<br /><br />By that I mean the gift basket that I received today was NOT the original one that I got, not the prototype above, but not even the same gift basket that I had received minus the wierdness, tackyness, and about a hundred other words that I could write to give a description of the FIRST nightmare of a gift basket that I had received.<br /><br />The only similarity from the original gift basket and then this second gift basket is that it's the same gift basket, but the one I received today is a darker color.  Everything else about it is the same as the first gift basket I received, the actual basket.<br /><br />There was a note taped to the outside of this gift basket showing that the orginal gift basket I received was a pre-production, prototype, mock-up that was never intended to be released to the general public.  I HOPE NOT!!!<br /><br />It never occured to me that any gift basket I would ever receive would not be the one that anyone else would have received.<br /><br />Obviously this company needs better quality control, because the one I originally received I never would have let it see the light of day, period.<br /><br />I was hoping that the gift basket that I received today would be the one I originally was supposed to receive to see how it really should have been, but the one I got today is an entirely different gift basket all together.<br /><br />The gift basket I received today was one entirely devoted to coffee, period.  It included:<br /><br />1.  A can of Ground Irish Coffee- 1.75 ounces. The brand is Bewley's Of Ireland, but on the back of the can it says Comfort Foods, Inc.  North Andover, MA.  I will be giving this coffee away.  I can't stand anything that is Irish Cream, no matter what it is.<br /><br />2.  3 packets of different ground coffees, each 1.3 ounces, in flavors of Breakfast Blend, Amaretto Royale, and Moca Java, from a company called Arbuckle's.  The city is Verona, PA.  Each packet of coffee is supposed to make about 10 cups of coffee depending on how strong you like it.<br /><br />3. A coffee mug that says a warm mug of Coffee, the best at igourment.com.  Your standard sized mug.  The writing is in a brown color, the mug itself is like an off white/beige color.  I will also be giving this mug away.  It's just not the kind of mug that I use either for coffee or tea.  The mug is ok, for what it is.<br /><br />4.  A small box that says Sugar in the raw, that has 6 packets.  I know I can buy this same brand in any grocery store.<br /><br />4.  A taller box that says Creamer for your coffee.  Inside that box is 10 packets of a generic looking non-dairy creamer.  I will also be giving this away as I don't use powdered creamer at all, but a liquid flavored creamer.<br /><br />5.A taller box that says Coffee Stirrers.  Inside that are 9 wooden coffee stirrers, like a thin popsicle stick. They aren't even plastic coffee stirrers!<br /><br />6.  A roll of King Original Peppermints which I assume is some kind of mints- 1.55 ounces.<br /><br />7.  A box of Caffe' Vergnano 1882 Biscoffee- 0.83 ounces.  I did receive this same thing in my first gift basket.  They taste like almond cookies.  The box says Product of Italy, but on the back of the box the state shown is PA.  Hardly Italy!<br /><br />8.  Several small packets of biscuit type cookies, to have with coffee.  About 6 of those total.<br /><br />In summary this gift basket was not the tacky, etc one like the first gift basket that I received, but I wouldn't call this one great either.  I wouldn't send this gift basket to anyone I know.  It doesn't look gourmet to me at all.<br /><br />The only things I will be keeping are the packets of coffee, the sugar in the raw, tho as a rule I don't use sugar period, and never in coffee.  I just use flavored liquid creamer in my coffee, and maybe the basket.  The rest I will be giving away.<br /><br />It's really hard to give an update since this second gift basket is not like the first one I received as far as the contents of the basket.<br /><br />I hate to say this, and I will leave it up to anyone who cares to read my review as to if they want to purchase either of these gift baskets or any others from this company, but I  don't like this company, period.<br /><br />They lack any imagination as far as the products/packaging they include in their gift baskets, which if I had to rate the gift baskets based soley on the contents of what was included in either gift basket, I would have to say the first gift basket I received had more variety than this second gift basket did.  I could see what the contents of the first gift basket would have contained, minus all of the wierd packaging that it had, tho some of the products of that one looked old, non-edible.  I threw most of that one away, period.  I didn't even give any of that gift basket away.<br /><br />My real question and my summary of this company is if it's named igourmet, where is the gourmet in their products?  Also, they are supposed to be products that are not from the U.S.A., but once again both gift baskets contained items only from the U.S.A.<br /><br />Most of what they include in their gift baskets, I could find either the same products or higher quality products than theirs in any grocery store.<br /><br />Like I said, it's hard to update a review if the gift baskets are entirely different, how can you compare them to post a review?  All I can do which is what I did in my first review, and that is to state what products were included in this second gift basket, and leave the rest of it up to any potential buyers out there who are considering purchasing a gift basket from this or any other company.<br /><br />I do appreciate getting a second gift basket, which after the first one I was kind of dreading what I would receive in this second gift basket, but this one too does NOT have any wow factor, or quality look to it.<br /><br />To me, especially if it were something like a gift basket it would not only be about the products included, which would be high quality products, but quality packaging too which I enjoy trying products from other companies, perhaps products I had never tried before, but to me it's not only about the items included in the gift basket, but the presentation too matters to me.  It shouldn't show cheap.<br /><br />Also, I don't understand how any company who specializes in gift baskets would include items that you could easily find in any grocery store, but their's is lower quality.<br /><br />How much thought goes into this companies gift baskets?  If I were a company who made gift baskets, I would want it to look like alot of thought went into what they included in their gift basket, from the items they include to their packaging, etc.  It's the total package that matters to me in the end.  I would want my gift baskets to be memorable, thoughtful and enjoyable.  With this company their gift baskets are forgettable, sadly.<br /><br />If I had to rate this second gift basket by how many stars I would give it, I would have to give it a 2, and that is being generous.<br /><br />Sorry, that is just how I see it!\n",
      "\n",
      "\n",
      "I bought these one day when I was craving a bagel, wanted something with whole grain, and I was, well, being lazy. I really wanted a bagel but I didn't feel like going to a bagel shop. I was already in the grocery store, walking through the bread isle, so it was an impulse buy pure and simple. In short, I was extremely disappointed. For my full review, see below.<br /><br />I have to think the only reasons anyone would give this product a good rating is either because they've never eaten a real bagel or they're in denial and are allowing themselves to think it's good because they're so desperate for a way to eat what they think is a bagel and still feel like they're eating healthy. Well, it's not a \"real\" bagel (not even close) and it's not even healthy. Why do I say this?<br /><br />~<br /><br />NOT A REAL BAGEL:<br /><br />The only similarities between Thomas' Bagels (or Bagel Thins) and real bagels is the round shape and the whole in the middle. Other than that these so-called bagels are nothing more than fluffy bread shaped like  a bagel. Upon close inspection and taste-testing it looks, tastes, and feels just like regular bread. It's extremely bland, even with the \"whole wheat\" it supposedly includes. I'm from an area of the country that makes REAL BAGELS (NYC and surrounding area) so I know what I speak of.<br /><br />True, traditional bagels should not be whole wheat, but I have eaten a whole wheat bagel made in a real bagel shop and these aren't even close to a real bagel. I've been eating true bagels made by hand for over 50 years. When you compare these things to real bagels it's almost a joke to call these things bagels.<br /><br />Bagels should be dense, chewy, and stiff. This is not. This is a limp, soft piece of floppy fluffy bread. I could ball one up in my hand like Wonder bread, that's how fluffy and soft they are. And bagels should be crispy when toasted. This is not, unless you over toast it to the point it's nearly burnt.<br /><br />~<br /><br />NOT HEALTHY:<br /><br />One of the reasons I bought these specific \"bagels\" was for the whole wheat. I thought it would be healthier than a regular bagel. WRONG! It contains stuff in it that I've never even heard of before and I'm sure are not \"healthy\" or wholesome ingredients. Like datem - what the heck is DATEM? It also contains stuff that shouldn't be in a bagel.<br /><br />~<br /><br />INGREDIENTS:<br /><br />Basic bagels should contain wheat flour, salt, water, and yeast leavening. That's it!<br /><br />REAL BAGELS CONTAIN:<br />Wheat Flour<br />Salt<br />Water<br />Yeast<br /><br />THOMAS' CONTAINS:<br />Wheat Flour<br />Water<br />Sugar<br />Wheat Gluten<br />Flaked Wheat<br />Cellulouse Fiber<br />Cornmeal<br />Yeast<br />Wheat Bran<br />Salt<br />Preservatives (calcium propionate, sorbic acid)<br />Monoglycerides<br />Guar Gum<br />Sodium Stearoyl Lactylate<br />Datem<br />Soybean Oil<br />Soy Flour<br /><br />Now, I do realize some of the non-traditional ingredients found in these \"bagels\" are there because they are supposed to be a \"whole wheat\" product (traditional bagels are not whole wheat), but that does not excuse the Cornmeal, Guar Gum, Datem, Soy Flour, Soy Oil, Sodium Stearoyl Lactylate, Monoglycerides, Calcium Propionate, and Sorbic Acid.<br /><br />~<br /><br />BOTTOM LINE:<br /><br />If you want a bagel go to a bagel shop. If you live in an area where they are not made (or not made correctly) I suggest you make friends with someone in NY and ask them to send you a box of bagels. Even if you freeze them and eat them later they'll taste 100% better than any grocery store bagel I'm sure.<br /><br />I'll most likely get myself some real bagels from a real bagel shop in the near future, and when I do I'll post photos or a video that shows the difference - which will tell you a lot because these things are so bad you can tell just from a photo, you don't even have to taste them (although I did).\n",
      "\n",
      "\n",
      "I had never tried this product before I was offered it through the vine. I eat Bear Naked granola daily, which is what I can compare this to.<br /><br />I was kind of unsure of the mixture of chocolate and granola. I had figured it was like steak flavored tofu, sure the taste is good but why? When I recieved the bag I was really delighted at the taste.<br /><br />It does not have a strong chocolate flavor. The small chocolate bits inside are tasty too. It also has LESS calories than Pure Protein from Bear Naked granola.<br /><br />Here are the specs:<br /><br />| Nutrition Facts<br />| Serving size 1/2 cup 50g<br />| Servings per container: about 7<br /><br />| Amount per serving:<br />| Calories 220 Calories from fat50<br />| Total fat: 6g 9%dv<br />| Sat fat: 2g 10%dv<br />| Trans fat 0g<br />| Polyunsaturated fat 1g<br />| Monounsaturated fat 2.5g<br />| Cholesterol 0mg 0% dv<br />| Sodium 5mg 0% dv<br />| Potassium 160mg 5% dv<br />| Total Carbohydrates 37g 12% dv<br />| Dietary fiber 4g 16% dv<br />| Sugar 13g<br />| Other Carbs 20g<br />| Protein: 5g<br /><br />| Vitamin A 0% o Vitamin C 0%<br />| Calcium 2% o Iron 10%<br />| Phosphorus 15%o Magnesium 15%<br />| Zinc 10% o Copper 15%<br /><br />Pros:<br />>> Great taste<br />>> Decent iron for vegetarians<br />>> Not too bad for calories per serving<br /><br />Cons:<br />>> Chocolate granola?<br />>> Not vegan (contains milk)<br /><br />Overall a great snack!<br /><br />Thank you for reading my review.\n",
      "\n",
      "\n",
      "Topic 2:\n",
      "tea coffee jasmine green taste br gift teas basket flavor\n",
      "\n",
      "\n",
      "I have been a fan of Jasmine Tea for quite a while.  Several years ago,<br />I had my first taste of TWINNINGS Jasmine Tea, and fell in love with the<br />sweet, delicate flavour....totally different from even the \"English Breakfast Tea\" made by the same company.  Though \"English Breakfast Tea\",<br />(and \"Darjeeling\", and even Fortum & Mason's \"Royal Blend\" tea are different from the usual \"Orange Pekoe\" or \"Orange Pekoe and Black\" teas, one usually gets bagged in the supermarket, these other 'rarified' teas are far more like the usual tea than Jasmine Tea.  Jasmine Tea, (at least as made by Twinnings), will always be my total favourite.<br /><br />When I went to purchase some \"TWINNINGS Jasmine Tea\" through Amazon, they were out of it...thank goodness, as it turns out, temporarily.  I didn't know this at the time...and so, I bought the \"substitute\" then offered...Sunflower Jasmine Tea.  I figured that Jasmine Tea is Jasmine Tea, no matter who makes it ....right?  And this Sunflower Tea DID seem slightly less expensive....so, I bought some.<br /><br />I have just had my first cup.  It did NOT taste like the Jasmine Tea I so remember and appreciate.  This is a very, very PALE tea in colour....and what is worse, the taste is somewhat peppery, (ulgh!)....with only the VERY slightest hint of the wonderful Jasmine Tea Flavour I remember.<br /><br />WHAT went wrong, I wondered.  HOW could this be so different?  Tea trees<br />should know no nationality or political system!  I was extremely bewildered and confused....for about five minutes.  But I found out the reason, (I think), just before I started to write this review...seeking out the Sunflower Jasmine Tea for which I wanted to write a review.<br /><br />Amongst the \"Jasmine Teas\" listed are TWO TYPES of Twinnings Jasmine Tea.<br />One is \"Jasmine Tea\", the other \"Jasmine Green Tea\".  I suspect that THIS is the reason I so dislike the Jasmine Tea from Sunflower.  It is NOT \"straight\" Jasmine Tea...but MUST be Jasmine Green Tea.  And although Green Tea is said to have myriad health benefits, it sure doesn't make as tasty and satisfying a brew as Jasmine tea.  Even when, it seems, it is MIXED with Jasmine Tea.<br /><br />One would expect people in the People's Republic of China to know the difference!  And to label their tea accordingly!  Not everyone, (including me!) is a tea expert...and the difference between \"Jasmine Tea\" and \"Jasmine Green Tea\" should be noted on the tea-box label, for tea novices, such as I...as it is, thoughtfully, by Twinnings Teas.  I am, at present, extremely disappointed at the carelessness in labeling.<br />Those who want \"Jasmine Tea\" only will, I am sure, be likewise disappointed by this probably-mislabeled-by-mistake-or-by-carelessness \"Jasmine Tea\".  It is NOT \"Jasmine Tea\" to my palate -- it is, I am almost certain, \"Jasmine Green Tea\".  There is SUCH a difference in taste!!!!!!<br /><br />I know Green Tea is good for one, and so I will keep this tea.  I will combine it with the \"ordinary\" tea I find at the supermarket -- and which I find far more flavourful!  (NOTE: Second cup of tea -- even mixed with \"ordinary\" orange pekoe tea, (two tea-bags!), is not to my taste.  Therefore....as is listed in the \"NOTE: PS\",  below, I HAVE DECIDED I AM NOT KEEPING this tea, but am putting it up for sale, for those who enjoy Jasmine Green Tea, (obviously some people do, as reflected in the other, sterling reviews of this tea), and would like it -- 1 pound minus two servings -- at a bargain price.)<br /><br />However, this tea is certainly not to MY taste.  And so disappointed am I, that, unless there is a very, very great difference in price, I will stick to buying genuine,<br />\"JASMINE Tea\", from Twinnings, (who takes the time and trouble to carefully label each TYPE of Jasmine Tea), from now on -- even if Sunflower does decide to mend it's ways and re-label its tea!<br /><br />A great flavor disappointment -- due to careless labelling!<br /><br />.............................................................<br />.............................................................<br /><br />p.S.  NOTE:  Today, 12th March, 2009 -- two days after I have written this review -- and about 6 days after I have received this tea, I have FINALLY seen that, yes indeedy....the package DOES say, \"Green Tea With Jasmine Flowers\" -- on the BACK of the tin, in smallish lettering!  One cannot see the BACK of the tin from the Amazon.com illustration!  From the \"Product Description\", it states that \"Jasmine Tea is one of the most pleasant-tasting green teas available....\" -- but does NOT mention any differentiation between the two varieties: \"Jasmine Tea\", ane \"Jasmine Green Tea\" -- as Twinnings Teas thoughtfully does.  Even from the \"Proudct Description\", which probably has been supplied by Sunflower, a novice would STILL not know there are two distinct and different TYPES of Jasmine Tea!  AND THERE DEFINITELY ARE TWO VARIETIES: - I have been on the phone with my sister, and she concurs: she (also), LOVES plain Jasmine Tea, but detests Jasmine GREEN Tea.  But -- I suppopose there ARE those who enjoy Jasmine Green Tea, looking at the ohter sterling reviews of this same tea.<br /><br />I don't like it. But I'm glad that there are those who do like it.  I have had two cups of 5his tea -- and have revised my opinion about keeping it.  I am putting it up for sale, via my Amazon.com shop.  I may lose mnney in this transaction, but better that, (for me), than suffering through more of this Jasmine Green Tea.  Besides, there PROBABLY ARE others who like it.  I guess I'll not only be doing myself a favour -- but will also be doing my \"good deed\" for the day, by putting it up at a bargain price for those who truly enjoy Jasmine GREEN Tea!  If you want to buy it, it's here -- used only twice, at the aforesaid bargain price! (Hey, that rhymes!)<br /><br />Note to Sunflower Teas:  PLEASE LABEL YOUR TEAS MORE CAREFULLY FROM NOW ON!\n",
      "\n",
      "\n",
      "I must admit, I haven't gotten many gift baskets in my time. If this one is any indication of what a gift basket is like, Iam not missing anything!!!!<br /><br />To start with, the gift basket is wrapped in cellophane, with a wide dark brown ribbon, with a sticker that says Back Mountain Gift Baskets.  The basket looks like a generic, cheap looking Easter basket, with two handles, one on each side of the basket.  Iam not sure what they are made of.  Inside where the items are, they are nestled in what looks like straw.<br /><br />Now, on to the items inside.<br /><br />1.  A wrapped box that says Kenzi All Natural Dark Napolitans.  Inside that is a box of Raisinettes.  Inside of that is 6 individual, small, solid dark chocolate, thin, red  wrapped bars, which had a gray tinge to them.<br /><br />2.  Next was a wrapped Chocolate Chip Crispie Marshmallow Bar it said on the package.  Inside was a box of Goya Spanish Flan Style Custard..  Inside that was a rice crispie bar with small chocolate chips.  I took a bite of it.  It was not nearly as good as the rice crispie bars you can make at home.  Not by a longshot!!<br /><br />3.  Next was a box of Venus Stoned Wheat Wafers. Inside were 3 cracker wafers.<br /><br />4.  Next was a Lindt Lindor Truffles Mint Chocolate package.  There were 3 inside, individually wrapped.<br /><br />5.Next was a Belgin Truffles box, with 4 individually wrapped inside.<br /><br />6.  Next was a Italian Herb Cheese Spread Box, 3.5 ounces, in a white plastic container.<br /><br />7.  Next was a box of Caramels Fleur De Sel.  Inside that was a box of Crystal Light Lemonade Box.  Inside that was 5 individually wrapped caramels.<br /><br />8.  Next was a box of Ferrara Milk Chocolate Covered Raisins Box, with grayish what looks like covered raisins.<br /><br />9.  Next was a box that said Milk Chocolate Napolitans.  Inside that was a Royal box of cherry gelatin.  Inside that is 6 individual, thin, small brown wrapped bars.  Like the Dark, Kenzi All Natural Napolitans.  They too had a grayish tinge to them.<br /><br />10.  Next was a box of Cafe Vergnano 1882 Biscoffee Bars. Inside was 4 Coffee Vergano thin, solid packaged bars.  Not sure it it's coffee or not.<br /><br />11 and 12.  Next was a one ounce bag of Trophy Farms All Natural Oven Roasted Peanuts, and a one ounce bag of Trophy Farms All Natural Fruit and Nuts.<br /><br />13.  Next was a sachet type box of Ernest Hemingway Highland Select Tea with 4 individually wrapped Ernest Hemingway tea bags.<br /><br />14.  Next was a box that said Stauffer's Original Recipe Ginger Snaps.  Inside was a box that said Stauffer's Original Animal Crackers.  Inside of that was a 2.3 ounce package of Stauffer's Original Recipe Ginger Snaps.<br /><br />I didn't see any coffee that I know of, and I definitely did not see any salami as stated in the description that I read.<br /><br />When I asked to receive this basket, by the description it sounded like it would be a United Nations Basket, with items from other countries which intrigued me.  Instead each item was made in the United States.<br /><br />Sadly, I would have much preferred the fake boxes of Jello, Crystal Light, Flan Custard, and Animal Crackers, rather than what the real items was.  At least I recognized the fake boxes, and they would have actually been something I could have used.<br /><br />What I got, most of it I plan to throw away.<br /><br />If in the description it says with a celebration in mind, the joke is on me, or I didn't get the joke, even tho I do have a good sense of humor.<br /><br />The endless unwrapping of each item, I wouldn't have minded if they had been quality items, but when I was finished unwrapping everything I was  just glad it was over!!<br /><br />I don't at this point know what this gift basket will be selling for, but to me, even a dollar would be too much!<br /><br />This basket was more like a gag gift to me.  I didn't find it funny at all!! I definitely would NOT send this to someone else, especially if it were someone I loved, or even liked, unless you are trying to get even with someone, but I couldn't even do that!<br /><br />In a nutshell, I am disappointed, to say the least! This just proves to me, that what you see online when you order something, it may not be what you thought at all when you actually do receive what you ordered!!<br /><br />These are my opinions only.  Someone else might enjoy this gift basket. I didn't!  It's cheap looking, the items inside are cheap looking, etc.<br /><br />UPDATE:  I did receive another gift basket today. The one that I received today was NOT the same gift basket that I had received when I wrote my original review above.<br /><br />By that I mean the gift basket that I received today was NOT the original one that I got, not the prototype above, but not even the same gift basket that I had received minus the wierdness, tackyness, and about a hundred other words that I could write to give a description of the FIRST nightmare of a gift basket that I had received.<br /><br />The only similarity from the original gift basket and then this second gift basket is that it's the same gift basket, but the one I received today is a darker color.  Everything else about it is the same as the first gift basket I received, the actual basket.<br /><br />There was a note taped to the outside of this gift basket showing that the orginal gift basket I received was a pre-production, prototype, mock-up that was never intended to be released to the general public.  I HOPE NOT!!!<br /><br />It never occured to me that any gift basket I would ever receive would not be the one that anyone else would have received.<br /><br />Obviously this company needs better quality control, because the one I originally received I never would have let it see the light of day, period.<br /><br />I was hoping that the gift basket that I received today would be the one I originally was supposed to receive to see how it really should have been, but the one I got today is an entirely different gift basket all together.<br /><br />The gift basket I received today was one entirely devoted to coffee, period.  It included:<br /><br />1.  A can of Ground Irish Coffee- 1.75 ounces. The brand is Bewley's Of Ireland, but on the back of the can it says Comfort Foods, Inc.  North Andover, MA.  I will be giving this coffee away.  I can't stand anything that is Irish Cream, no matter what it is.<br /><br />2.  3 packets of different ground coffees, each 1.3 ounces, in flavors of Breakfast Blend, Amaretto Royale, and Moca Java, from a company called Arbuckle's.  The city is Verona, PA.  Each packet of coffee is supposed to make about 10 cups of coffee depending on how strong you like it.<br /><br />3. A coffee mug that says a warm mug of Coffee, the best at igourment.com.  Your standard sized mug.  The writing is in a brown color, the mug itself is like an off white/beige color.  I will also be giving this mug away.  It's just not the kind of mug that I use either for coffee or tea.  The mug is ok, for what it is.<br /><br />4.  A small box that says Sugar in the raw, that has 6 packets.  I know I can buy this same brand in any grocery store.<br /><br />4.  A taller box that says Creamer for your coffee.  Inside that box is 10 packets of a generic looking non-dairy creamer.  I will also be giving this away as I don't use powdered creamer at all, but a liquid flavored creamer.<br /><br />5.A taller box that says Coffee Stirrers.  Inside that are 9 wooden coffee stirrers, like a thin popsicle stick. They aren't even plastic coffee stirrers!<br /><br />6.  A roll of King Original Peppermints which I assume is some kind of mints- 1.55 ounces.<br /><br />7.  A box of Caffe' Vergnano 1882 Biscoffee- 0.83 ounces.  I did receive this same thing in my first gift basket.  They taste like almond cookies.  The box says Product of Italy, but on the back of the box the state shown is PA.  Hardly Italy!<br /><br />8.  Several small packets of biscuit type cookies, to have with coffee.  About 6 of those total.<br /><br />In summary this gift basket was not the tacky, etc one like the first gift basket that I received, but I wouldn't call this one great either.  I wouldn't send this gift basket to anyone I know.  It doesn't look gourmet to me at all.<br /><br />The only things I will be keeping are the packets of coffee, the sugar in the raw, tho as a rule I don't use sugar period, and never in coffee.  I just use flavored liquid creamer in my coffee, and maybe the basket.  The rest I will be giving away.<br /><br />It's really hard to give an update since this second gift basket is not like the first one I received as far as the contents of the basket.<br /><br />I hate to say this, and I will leave it up to anyone who cares to read my review as to if they want to purchase either of these gift baskets or any others from this company, but I  don't like this company, period.<br /><br />They lack any imagination as far as the products/packaging they include in their gift baskets, which if I had to rate the gift baskets based soley on the contents of what was included in either gift basket, I would have to say the first gift basket I received had more variety than this second gift basket did.  I could see what the contents of the first gift basket would have contained, minus all of the wierd packaging that it had, tho some of the products of that one looked old, non-edible.  I threw most of that one away, period.  I didn't even give any of that gift basket away.<br /><br />My real question and my summary of this company is if it's named igourmet, where is the gourmet in their products?  Also, they are supposed to be products that are not from the U.S.A., but once again both gift baskets contained items only from the U.S.A.<br /><br />Most of what they include in their gift baskets, I could find either the same products or higher quality products than theirs in any grocery store.<br /><br />Like I said, it's hard to update a review if the gift baskets are entirely different, how can you compare them to post a review?  All I can do which is what I did in my first review, and that is to state what products were included in this second gift basket, and leave the rest of it up to any potential buyers out there who are considering purchasing a gift basket from this or any other company.<br /><br />I do appreciate getting a second gift basket, which after the first one I was kind of dreading what I would receive in this second gift basket, but this one too does NOT have any wow factor, or quality look to it.<br /><br />To me, especially if it were something like a gift basket it would not only be about the products included, which would be high quality products, but quality packaging too which I enjoy trying products from other companies, perhaps products I had never tried before, but to me it's not only about the items included in the gift basket, but the presentation too matters to me.  It shouldn't show cheap.<br /><br />Also, I don't understand how any company who specializes in gift baskets would include items that you could easily find in any grocery store, but their's is lower quality.<br /><br />How much thought goes into this companies gift baskets?  If I were a company who made gift baskets, I would want it to look like alot of thought went into what they included in their gift basket, from the items they include to their packaging, etc.  It's the total package that matters to me in the end.  I would want my gift baskets to be memorable, thoughtful and enjoyable.  With this company their gift baskets are forgettable, sadly.<br /><br />If I had to rate this second gift basket by how many stars I would give it, I would have to give it a 2, and that is being generous.<br /><br />Sorry, that is just how I see it!\n",
      "\n",
      "\n",
      "As a \"royal-watcher\" since childhood, I did a double-take and stopped short, walking back to where I had been, when I saw this in my periferal vision, several years ago, in the supermarket.  It was that CROWN and that ROBE that Mr. Newman was wearing that got my eye.<br /><br />\"Royal Tea\" from Paul Newman's enterprises!  Why not?  I mean -- who deserved to name his tea \"Royal Tea\" than this superstar whose charitable heart was as good as his acting skills, and as wonderful as his ever-handsome looks?  The maverick in me has always liked the slightly-cocky half-smile Mr. Newman gave so often on the screen.  It was as if he had a touch -- just a touch, mind you -- of anger at our \"esteemed\" leadership, and at authority in general....just as I have?  Probably....<br /><br />Anyway, I bought the tea, and found it's flavour really good.  Tasty tea -- thy name is NEWMAN'S OWN ORGANICS ROYAL TEA, ORGANIC BLACK TEA, 100 INDIVIDUALLY WRAPPED TEA BAGS, 7.05-OUNCE BOXES, (PACK OF 6).  It has a light, but very bold flavour.  And a very good flavour, too!<br /><br />I have recently found I must cut down on my favourite sweetener, SPLENDA. (TOO much of anything isn't good -- and too much SPLENDA, at least in my case, was beginning to affect my liver!)  I've partially solved this problem by putting TWO tea-bags in a slightly larger cup, (actually a 22-ounce glass), and this allows me to cut down on my Splenda packets.  It also gives the tea a more robust taste.<br /><br />The message on the back of the box, from Mr. Newman's daughter, Nell, (who appears with him in Royal roobes on the front), is funny, and a priceless view into the mind and heart of the sadly late Mr. Newman.  Who knows, but that he, (and Nell), may very well have had royal ancestors?  He was certainly handsome enough, (and Nell quite beautiful enough), to have this actually be true.  The message is delightful, and I am so glad it has been continued on the box.  (One note to Nell, thoough: a \"perilous\" person is one who is usually a villain(ess).  I take it that you are NOT \"perilous\", but \"imperilled\", (someone who IN danger.)  Please check<br />with the dictionary to be sure I am right on this!<br /><br />I've been fortunate enough to be able to sample the English FORTUM & MASON's \"Royal Blend Tea\".  It is very tasty, too -- but also imported, and thus,<br />very expensive.  NEWMAN'S OWN ORGANICS ROYAL TEA, ORGANIC BLACK TEA, is really tasty, less expensive, and truly an AMERICAN tea.  It proves, in a totally American way, that one need not be a king or queen, to enjoy the very best!  If Mr. Newman's ancestors WERE royal, he was continuing in the BEST of royal traditions, by sharing his bounty, (at a very reasonable cost), with those of us who admire all he did.  If his ancestors weren't royal....well, this truly delicious tea proves that ANYONE, no matter what their ancestry --  with enough heart, backing, and expertise -- can produce an exceptional-tasting tea at reasonable cost.<br /><br />\"King Paul\" remains in our hearts, and in our happiest memories.  \"Queen Nell\" has our respect, our love, and our admiration.  This black tea -- the black tea that so many of us grew up on -- is our traditional tea, upgraded to a \"royal\" standard by being organic.  Mr. Newman's company also produces organic green tea, which has its own great taste and health benefits.  But for we traditionalists....black tea is it.  And organic black tea that is SO tasty, truly makes anyone who drinks it,<br />feel quite royal, indeed!\n",
      "\n",
      "\n",
      "Culinary Teas Gourmet Teas Pumpkin Spice Tea<br /><br />Price: >$16 (4oz bag shipping added to my total) Purchased through amazon<br /><br />Caff-O-Meter: Undetermined, I'd estimate 15-30 since the base is not all black tea<br />Ingredients:<br />Luxury Black tea, Hibiscus, Rosehip, Almond pieces, Cinnamon pieces, Rooibos, Vanilla pieces, Apple pieces + Natural dried Orange, Sunflower + Calendula petals, Triacetin, Natural flavors.<br /><br />-Smell (.5) - The smell is not very strong nor does it remind me of pumpkin  or fall. Scent falls flat<br /><br />-Taste<br /><br />+Unsweetened:<br />++Hot (.5) - Does not taste like anything other than normal tea.<br />++Iced (1) - again no flavor is present aside from just tea to me<br />*I prefer my teas Iced and 1 cup to .5 packet of sweetener. So unless it wows me, without sweetener will always be lower in points so to compensate I add .5 points to the unsweetened taste average.<br /><br />-Sweetened<br />++Hot (1.5)- Adding the sweetener (.5 pkg of truvia) usually makes flavors stick out, and until I added the sweetener I didn't detect anything other than just black tea.<br />++Iced (2) -  So Iced with sweetener is the only way I find this tea to be enjoyable.<br /><br />2nd Steep (2) it maintains its flavor through a second steep but I'm still not impressed.<br /><br />Summary -  I really wanted to like this tea but it just didn't do it for me. The tea was very weak, perhaps I will try to double the strength in a few days and update my rating. to me it just tastes very bland.<br />If you must have some pumpkin tea now, here is a decent method to get you by (don't expect a miracle of flavor). Pumpkin pie spice (I prefer 1 tsp per 16 oz water) \"steep\" it for 5 minutes hot water then add your preferred tea for a normal steep time. Strain/Sweeten to preference. I use plain Lipton loose leaf for now but I can't wait to try this with plain rooibos when I get it.<br /><br />I have many other tea reviews so keep checking back. To get a better idea of whether or not we have similar tastes in teas check out my profile (I used to actually hate tea).<br /><br />*** I have spoken with the seller who has assured me the tea is not old. You cant make everyone happy flavor wise and this was just not for my palette, I have a feeling it may be due to tea having no sweetener added and I prefer a sweetness to my tea. I am very pleased with the professionalism of the seller  and I will be giving them the full rating.\n",
      "\n",
      "\n",
      "Topic 3:\n",
      "tea food jasmine green dog cat teas eating eat ingredients\n",
      "\n",
      "\n",
      "I have been a fan of Jasmine Tea for quite a while.  Several years ago,<br />I had my first taste of TWINNINGS Jasmine Tea, and fell in love with the<br />sweet, delicate flavour....totally different from even the \"English Breakfast Tea\" made by the same company.  Though \"English Breakfast Tea\",<br />(and \"Darjeeling\", and even Fortum & Mason's \"Royal Blend\" tea are different from the usual \"Orange Pekoe\" or \"Orange Pekoe and Black\" teas, one usually gets bagged in the supermarket, these other 'rarified' teas are far more like the usual tea than Jasmine Tea.  Jasmine Tea, (at least as made by Twinnings), will always be my total favourite.<br /><br />When I went to purchase some \"TWINNINGS Jasmine Tea\" through Amazon, they were out of it...thank goodness, as it turns out, temporarily.  I didn't know this at the time...and so, I bought the \"substitute\" then offered...Sunflower Jasmine Tea.  I figured that Jasmine Tea is Jasmine Tea, no matter who makes it ....right?  And this Sunflower Tea DID seem slightly less expensive....so, I bought some.<br /><br />I have just had my first cup.  It did NOT taste like the Jasmine Tea I so remember and appreciate.  This is a very, very PALE tea in colour....and what is worse, the taste is somewhat peppery, (ulgh!)....with only the VERY slightest hint of the wonderful Jasmine Tea Flavour I remember.<br /><br />WHAT went wrong, I wondered.  HOW could this be so different?  Tea trees<br />should know no nationality or political system!  I was extremely bewildered and confused....for about five minutes.  But I found out the reason, (I think), just before I started to write this review...seeking out the Sunflower Jasmine Tea for which I wanted to write a review.<br /><br />Amongst the \"Jasmine Teas\" listed are TWO TYPES of Twinnings Jasmine Tea.<br />One is \"Jasmine Tea\", the other \"Jasmine Green Tea\".  I suspect that THIS is the reason I so dislike the Jasmine Tea from Sunflower.  It is NOT \"straight\" Jasmine Tea...but MUST be Jasmine Green Tea.  And although Green Tea is said to have myriad health benefits, it sure doesn't make as tasty and satisfying a brew as Jasmine tea.  Even when, it seems, it is MIXED with Jasmine Tea.<br /><br />One would expect people in the People's Republic of China to know the difference!  And to label their tea accordingly!  Not everyone, (including me!) is a tea expert...and the difference between \"Jasmine Tea\" and \"Jasmine Green Tea\" should be noted on the tea-box label, for tea novices, such as I...as it is, thoughtfully, by Twinnings Teas.  I am, at present, extremely disappointed at the carelessness in labeling.<br />Those who want \"Jasmine Tea\" only will, I am sure, be likewise disappointed by this probably-mislabeled-by-mistake-or-by-carelessness \"Jasmine Tea\".  It is NOT \"Jasmine Tea\" to my palate -- it is, I am almost certain, \"Jasmine Green Tea\".  There is SUCH a difference in taste!!!!!!<br /><br />I know Green Tea is good for one, and so I will keep this tea.  I will combine it with the \"ordinary\" tea I find at the supermarket -- and which I find far more flavourful!  (NOTE: Second cup of tea -- even mixed with \"ordinary\" orange pekoe tea, (two tea-bags!), is not to my taste.  Therefore....as is listed in the \"NOTE: PS\",  below, I HAVE DECIDED I AM NOT KEEPING this tea, but am putting it up for sale, for those who enjoy Jasmine Green Tea, (obviously some people do, as reflected in the other, sterling reviews of this tea), and would like it -- 1 pound minus two servings -- at a bargain price.)<br /><br />However, this tea is certainly not to MY taste.  And so disappointed am I, that, unless there is a very, very great difference in price, I will stick to buying genuine,<br />\"JASMINE Tea\", from Twinnings, (who takes the time and trouble to carefully label each TYPE of Jasmine Tea), from now on -- even if Sunflower does decide to mend it's ways and re-label its tea!<br /><br />A great flavor disappointment -- due to careless labelling!<br /><br />.............................................................<br />.............................................................<br /><br />p.S.  NOTE:  Today, 12th March, 2009 -- two days after I have written this review -- and about 6 days after I have received this tea, I have FINALLY seen that, yes indeedy....the package DOES say, \"Green Tea With Jasmine Flowers\" -- on the BACK of the tin, in smallish lettering!  One cannot see the BACK of the tin from the Amazon.com illustration!  From the \"Product Description\", it states that \"Jasmine Tea is one of the most pleasant-tasting green teas available....\" -- but does NOT mention any differentiation between the two varieties: \"Jasmine Tea\", ane \"Jasmine Green Tea\" -- as Twinnings Teas thoughtfully does.  Even from the \"Proudct Description\", which probably has been supplied by Sunflower, a novice would STILL not know there are two distinct and different TYPES of Jasmine Tea!  AND THERE DEFINITELY ARE TWO VARIETIES: - I have been on the phone with my sister, and she concurs: she (also), LOVES plain Jasmine Tea, but detests Jasmine GREEN Tea.  But -- I suppopose there ARE those who enjoy Jasmine Green Tea, looking at the ohter sterling reviews of this same tea.<br /><br />I don't like it. But I'm glad that there are those who do like it.  I have had two cups of 5his tea -- and have revised my opinion about keeping it.  I am putting it up for sale, via my Amazon.com shop.  I may lose mnney in this transaction, but better that, (for me), than suffering through more of this Jasmine Green Tea.  Besides, there PROBABLY ARE others who like it.  I guess I'll not only be doing myself a favour -- but will also be doing my \"good deed\" for the day, by putting it up at a bargain price for those who truly enjoy Jasmine GREEN Tea!  If you want to buy it, it's here -- used only twice, at the aforesaid bargain price! (Hey, that rhymes!)<br /><br />Note to Sunflower Teas:  PLEASE LABEL YOUR TEAS MORE CAREFULLY FROM NOW ON!\n",
      "\n",
      "\n",
      "As a \"royal-watcher\" since childhood, I did a double-take and stopped short, walking back to where I had been, when I saw this in my periferal vision, several years ago, in the supermarket.  It was that CROWN and that ROBE that Mr. Newman was wearing that got my eye.<br /><br />\"Royal Tea\" from Paul Newman's enterprises!  Why not?  I mean -- who deserved to name his tea \"Royal Tea\" than this superstar whose charitable heart was as good as his acting skills, and as wonderful as his ever-handsome looks?  The maverick in me has always liked the slightly-cocky half-smile Mr. Newman gave so often on the screen.  It was as if he had a touch -- just a touch, mind you -- of anger at our \"esteemed\" leadership, and at authority in general....just as I have?  Probably....<br /><br />Anyway, I bought the tea, and found it's flavour really good.  Tasty tea -- thy name is NEWMAN'S OWN ORGANICS ROYAL TEA, ORGANIC BLACK TEA, 100 INDIVIDUALLY WRAPPED TEA BAGS, 7.05-OUNCE BOXES, (PACK OF 6).  It has a light, but very bold flavour.  And a very good flavour, too!<br /><br />I have recently found I must cut down on my favourite sweetener, SPLENDA. (TOO much of anything isn't good -- and too much SPLENDA, at least in my case, was beginning to affect my liver!)  I've partially solved this problem by putting TWO tea-bags in a slightly larger cup, (actually a 22-ounce glass), and this allows me to cut down on my Splenda packets.  It also gives the tea a more robust taste.<br /><br />The message on the back of the box, from Mr. Newman's daughter, Nell, (who appears with him in Royal roobes on the front), is funny, and a priceless view into the mind and heart of the sadly late Mr. Newman.  Who knows, but that he, (and Nell), may very well have had royal ancestors?  He was certainly handsome enough, (and Nell quite beautiful enough), to have this actually be true.  The message is delightful, and I am so glad it has been continued on the box.  (One note to Nell, thoough: a \"perilous\" person is one who is usually a villain(ess).  I take it that you are NOT \"perilous\", but \"imperilled\", (someone who IN danger.)  Please check<br />with the dictionary to be sure I am right on this!<br /><br />I've been fortunate enough to be able to sample the English FORTUM & MASON's \"Royal Blend Tea\".  It is very tasty, too -- but also imported, and thus,<br />very expensive.  NEWMAN'S OWN ORGANICS ROYAL TEA, ORGANIC BLACK TEA, is really tasty, less expensive, and truly an AMERICAN tea.  It proves, in a totally American way, that one need not be a king or queen, to enjoy the very best!  If Mr. Newman's ancestors WERE royal, he was continuing in the BEST of royal traditions, by sharing his bounty, (at a very reasonable cost), with those of us who admire all he did.  If his ancestors weren't royal....well, this truly delicious tea proves that ANYONE, no matter what their ancestry --  with enough heart, backing, and expertise -- can produce an exceptional-tasting tea at reasonable cost.<br /><br />\"King Paul\" remains in our hearts, and in our happiest memories.  \"Queen Nell\" has our respect, our love, and our admiration.  This black tea -- the black tea that so many of us grew up on -- is our traditional tea, upgraded to a \"royal\" standard by being organic.  Mr. Newman's company also produces organic green tea, which has its own great taste and health benefits.  But for we traditionalists....black tea is it.  And organic black tea that is SO tasty, truly makes anyone who drinks it,<br />feel quite royal, indeed!\n",
      "\n",
      "\n",
      "Culinary Teas Gourmet Teas Pumpkin Spice Tea<br /><br />Price: >$16 (4oz bag shipping added to my total) Purchased through amazon<br /><br />Caff-O-Meter: Undetermined, I'd estimate 15-30 since the base is not all black tea<br />Ingredients:<br />Luxury Black tea, Hibiscus, Rosehip, Almond pieces, Cinnamon pieces, Rooibos, Vanilla pieces, Apple pieces + Natural dried Orange, Sunflower + Calendula petals, Triacetin, Natural flavors.<br /><br />-Smell (.5) - The smell is not very strong nor does it remind me of pumpkin  or fall. Scent falls flat<br /><br />-Taste<br /><br />+Unsweetened:<br />++Hot (.5) - Does not taste like anything other than normal tea.<br />++Iced (1) - again no flavor is present aside from just tea to me<br />*I prefer my teas Iced and 1 cup to .5 packet of sweetener. So unless it wows me, without sweetener will always be lower in points so to compensate I add .5 points to the unsweetened taste average.<br /><br />-Sweetened<br />++Hot (1.5)- Adding the sweetener (.5 pkg of truvia) usually makes flavors stick out, and until I added the sweetener I didn't detect anything other than just black tea.<br />++Iced (2) -  So Iced with sweetener is the only way I find this tea to be enjoyable.<br /><br />2nd Steep (2) it maintains its flavor through a second steep but I'm still not impressed.<br /><br />Summary -  I really wanted to like this tea but it just didn't do it for me. The tea was very weak, perhaps I will try to double the strength in a few days and update my rating. to me it just tastes very bland.<br />If you must have some pumpkin tea now, here is a decent method to get you by (don't expect a miracle of flavor). Pumpkin pie spice (I prefer 1 tsp per 16 oz water) \"steep\" it for 5 minutes hot water then add your preferred tea for a normal steep time. Strain/Sweeten to preference. I use plain Lipton loose leaf for now but I can't wait to try this with plain rooibos when I get it.<br /><br />I have many other tea reviews so keep checking back. To get a better idea of whether or not we have similar tastes in teas check out my profile (I used to actually hate tea).<br /><br />*** I have spoken with the seller who has assured me the tea is not old. You cant make everyone happy flavor wise and this was just not for my palette, I have a feeling it may be due to tea having no sweetener added and I prefer a sweetness to my tea. I am very pleased with the professionalism of the seller  and I will be giving them the full rating.\n",
      "\n",
      "\n",
      "I am a chocolate fanatic and pairing chocolate with tea only seems natural to me.  I've sampled several chocolate flavors and this Stash tea, when compared to the others, is nothing spectacular.  When unbrewed, the Stash tea bag smells like chocolate but that scent does not translate to much of a chocolate flavor once the tea is brewed.  I could taste quite a bit of vanilla and some nut but the chocolate was just negligible. Additionally, there was a strange aftertaste with this tea.  It just wasn't pleasant.<br /><br />If you are committed to a chocolate decaffeinated beverage, your choices will be limited. I have sampled quite a few chocolate teas and many use a black tea base.  However, if interested in a caffeine free tee that has a good body, I would recommend <a href=\"http://www.amazon.com/gp/product/B0030LXA0I\">Chocolate Chai Tea by Zhena's Gypsy Tea</a>, which is a naturally caffeine free tea.  Zhena's chocolate chai is supposed to taste like chocolate, but it has a lot of spices.  Still, <a href=\"http://www.amazon.com/gp/product/B0030LXA0I\">Chocolate Chai Tea by Zhena's Gypsy Tea</a> has a much richer overall flavor than the Stash Premium Chocolate Hazelnut tea.<br /><br />If you don't care about caffeine and are just looking for a chocolate tea, there are several others that I would recommend before this one.  They include: <a href=\"http://www.amazon.com/gp/product/B0031TJ0X0\">Tisano Organic Chocolate Tea</a>, <a href=\"http://www.amazon.com/gp/product/B001EO64F6\">SerendipiTea ChocolaTea, Chocolate, Vanilla, Rooibos & Black Tea, 4-Ounce Boxes (Pack of 2)</a>, and <a href=\"http://www.amazon.com/gp/product/B001QY03TC\">Bigelow White Chocolate ObsessionTea, 1.6-Ounce Boxes (Pack of 6)</a>.  The first two are loose teas and the last is a bagged tea.<br /><br />At the end of the day, I don't think I would recommend this Stash tea to any chocolate lover.  It doesn't taste like chocolate and the overall flavor is poor.\n",
      "\n",
      "\n",
      "Topic 4:\n",
      "coffee food tea cup cat day jasmine eating cups science\n",
      "\n",
      "\n",
      "I have been a fan of Jasmine Tea for quite a while.  Several years ago,<br />I had my first taste of TWINNINGS Jasmine Tea, and fell in love with the<br />sweet, delicate flavour....totally different from even the \"English Breakfast Tea\" made by the same company.  Though \"English Breakfast Tea\",<br />(and \"Darjeeling\", and even Fortum & Mason's \"Royal Blend\" tea are different from the usual \"Orange Pekoe\" or \"Orange Pekoe and Black\" teas, one usually gets bagged in the supermarket, these other 'rarified' teas are far more like the usual tea than Jasmine Tea.  Jasmine Tea, (at least as made by Twinnings), will always be my total favourite.<br /><br />When I went to purchase some \"TWINNINGS Jasmine Tea\" through Amazon, they were out of it...thank goodness, as it turns out, temporarily.  I didn't know this at the time...and so, I bought the \"substitute\" then offered...Sunflower Jasmine Tea.  I figured that Jasmine Tea is Jasmine Tea, no matter who makes it ....right?  And this Sunflower Tea DID seem slightly less expensive....so, I bought some.<br /><br />I have just had my first cup.  It did NOT taste like the Jasmine Tea I so remember and appreciate.  This is a very, very PALE tea in colour....and what is worse, the taste is somewhat peppery, (ulgh!)....with only the VERY slightest hint of the wonderful Jasmine Tea Flavour I remember.<br /><br />WHAT went wrong, I wondered.  HOW could this be so different?  Tea trees<br />should know no nationality or political system!  I was extremely bewildered and confused....for about five minutes.  But I found out the reason, (I think), just before I started to write this review...seeking out the Sunflower Jasmine Tea for which I wanted to write a review.<br /><br />Amongst the \"Jasmine Teas\" listed are TWO TYPES of Twinnings Jasmine Tea.<br />One is \"Jasmine Tea\", the other \"Jasmine Green Tea\".  I suspect that THIS is the reason I so dislike the Jasmine Tea from Sunflower.  It is NOT \"straight\" Jasmine Tea...but MUST be Jasmine Green Tea.  And although Green Tea is said to have myriad health benefits, it sure doesn't make as tasty and satisfying a brew as Jasmine tea.  Even when, it seems, it is MIXED with Jasmine Tea.<br /><br />One would expect people in the People's Republic of China to know the difference!  And to label their tea accordingly!  Not everyone, (including me!) is a tea expert...and the difference between \"Jasmine Tea\" and \"Jasmine Green Tea\" should be noted on the tea-box label, for tea novices, such as I...as it is, thoughtfully, by Twinnings Teas.  I am, at present, extremely disappointed at the carelessness in labeling.<br />Those who want \"Jasmine Tea\" only will, I am sure, be likewise disappointed by this probably-mislabeled-by-mistake-or-by-carelessness \"Jasmine Tea\".  It is NOT \"Jasmine Tea\" to my palate -- it is, I am almost certain, \"Jasmine Green Tea\".  There is SUCH a difference in taste!!!!!!<br /><br />I know Green Tea is good for one, and so I will keep this tea.  I will combine it with the \"ordinary\" tea I find at the supermarket -- and which I find far more flavourful!  (NOTE: Second cup of tea -- even mixed with \"ordinary\" orange pekoe tea, (two tea-bags!), is not to my taste.  Therefore....as is listed in the \"NOTE: PS\",  below, I HAVE DECIDED I AM NOT KEEPING this tea, but am putting it up for sale, for those who enjoy Jasmine Green Tea, (obviously some people do, as reflected in the other, sterling reviews of this tea), and would like it -- 1 pound minus two servings -- at a bargain price.)<br /><br />However, this tea is certainly not to MY taste.  And so disappointed am I, that, unless there is a very, very great difference in price, I will stick to buying genuine,<br />\"JASMINE Tea\", from Twinnings, (who takes the time and trouble to carefully label each TYPE of Jasmine Tea), from now on -- even if Sunflower does decide to mend it's ways and re-label its tea!<br /><br />A great flavor disappointment -- due to careless labelling!<br /><br />.............................................................<br />.............................................................<br /><br />p.S.  NOTE:  Today, 12th March, 2009 -- two days after I have written this review -- and about 6 days after I have received this tea, I have FINALLY seen that, yes indeedy....the package DOES say, \"Green Tea With Jasmine Flowers\" -- on the BACK of the tin, in smallish lettering!  One cannot see the BACK of the tin from the Amazon.com illustration!  From the \"Product Description\", it states that \"Jasmine Tea is one of the most pleasant-tasting green teas available....\" -- but does NOT mention any differentiation between the two varieties: \"Jasmine Tea\", ane \"Jasmine Green Tea\" -- as Twinnings Teas thoughtfully does.  Even from the \"Proudct Description\", which probably has been supplied by Sunflower, a novice would STILL not know there are two distinct and different TYPES of Jasmine Tea!  AND THERE DEFINITELY ARE TWO VARIETIES: - I have been on the phone with my sister, and she concurs: she (also), LOVES plain Jasmine Tea, but detests Jasmine GREEN Tea.  But -- I suppopose there ARE those who enjoy Jasmine Green Tea, looking at the ohter sterling reviews of this same tea.<br /><br />I don't like it. But I'm glad that there are those who do like it.  I have had two cups of 5his tea -- and have revised my opinion about keeping it.  I am putting it up for sale, via my Amazon.com shop.  I may lose mnney in this transaction, but better that, (for me), than suffering through more of this Jasmine Green Tea.  Besides, there PROBABLY ARE others who like it.  I guess I'll not only be doing myself a favour -- but will also be doing my \"good deed\" for the day, by putting it up at a bargain price for those who truly enjoy Jasmine GREEN Tea!  If you want to buy it, it's here -- used only twice, at the aforesaid bargain price! (Hey, that rhymes!)<br /><br />Note to Sunflower Teas:  PLEASE LABEL YOUR TEAS MORE CAREFULLY FROM NOW ON!\n",
      "\n",
      "\n",
      "I must admit, I haven't gotten many gift baskets in my time. If this one is any indication of what a gift basket is like, Iam not missing anything!!!!<br /><br />To start with, the gift basket is wrapped in cellophane, with a wide dark brown ribbon, with a sticker that says Back Mountain Gift Baskets.  The basket looks like a generic, cheap looking Easter basket, with two handles, one on each side of the basket.  Iam not sure what they are made of.  Inside where the items are, they are nestled in what looks like straw.<br /><br />Now, on to the items inside.<br /><br />1.  A wrapped box that says Kenzi All Natural Dark Napolitans.  Inside that is a box of Raisinettes.  Inside of that is 6 individual, small, solid dark chocolate, thin, red  wrapped bars, which had a gray tinge to them.<br /><br />2.  Next was a wrapped Chocolate Chip Crispie Marshmallow Bar it said on the package.  Inside was a box of Goya Spanish Flan Style Custard..  Inside that was a rice crispie bar with small chocolate chips.  I took a bite of it.  It was not nearly as good as the rice crispie bars you can make at home.  Not by a longshot!!<br /><br />3.  Next was a box of Venus Stoned Wheat Wafers. Inside were 3 cracker wafers.<br /><br />4.  Next was a Lindt Lindor Truffles Mint Chocolate package.  There were 3 inside, individually wrapped.<br /><br />5.Next was a Belgin Truffles box, with 4 individually wrapped inside.<br /><br />6.  Next was a Italian Herb Cheese Spread Box, 3.5 ounces, in a white plastic container.<br /><br />7.  Next was a box of Caramels Fleur De Sel.  Inside that was a box of Crystal Light Lemonade Box.  Inside that was 5 individually wrapped caramels.<br /><br />8.  Next was a box of Ferrara Milk Chocolate Covered Raisins Box, with grayish what looks like covered raisins.<br /><br />9.  Next was a box that said Milk Chocolate Napolitans.  Inside that was a Royal box of cherry gelatin.  Inside that is 6 individual, thin, small brown wrapped bars.  Like the Dark, Kenzi All Natural Napolitans.  They too had a grayish tinge to them.<br /><br />10.  Next was a box of Cafe Vergnano 1882 Biscoffee Bars. Inside was 4 Coffee Vergano thin, solid packaged bars.  Not sure it it's coffee or not.<br /><br />11 and 12.  Next was a one ounce bag of Trophy Farms All Natural Oven Roasted Peanuts, and a one ounce bag of Trophy Farms All Natural Fruit and Nuts.<br /><br />13.  Next was a sachet type box of Ernest Hemingway Highland Select Tea with 4 individually wrapped Ernest Hemingway tea bags.<br /><br />14.  Next was a box that said Stauffer's Original Recipe Ginger Snaps.  Inside was a box that said Stauffer's Original Animal Crackers.  Inside of that was a 2.3 ounce package of Stauffer's Original Recipe Ginger Snaps.<br /><br />I didn't see any coffee that I know of, and I definitely did not see any salami as stated in the description that I read.<br /><br />When I asked to receive this basket, by the description it sounded like it would be a United Nations Basket, with items from other countries which intrigued me.  Instead each item was made in the United States.<br /><br />Sadly, I would have much preferred the fake boxes of Jello, Crystal Light, Flan Custard, and Animal Crackers, rather than what the real items was.  At least I recognized the fake boxes, and they would have actually been something I could have used.<br /><br />What I got, most of it I plan to throw away.<br /><br />If in the description it says with a celebration in mind, the joke is on me, or I didn't get the joke, even tho I do have a good sense of humor.<br /><br />The endless unwrapping of each item, I wouldn't have minded if they had been quality items, but when I was finished unwrapping everything I was  just glad it was over!!<br /><br />I don't at this point know what this gift basket will be selling for, but to me, even a dollar would be too much!<br /><br />This basket was more like a gag gift to me.  I didn't find it funny at all!! I definitely would NOT send this to someone else, especially if it were someone I loved, or even liked, unless you are trying to get even with someone, but I couldn't even do that!<br /><br />In a nutshell, I am disappointed, to say the least! This just proves to me, that what you see online when you order something, it may not be what you thought at all when you actually do receive what you ordered!!<br /><br />These are my opinions only.  Someone else might enjoy this gift basket. I didn't!  It's cheap looking, the items inside are cheap looking, etc.<br /><br />UPDATE:  I did receive another gift basket today. The one that I received today was NOT the same gift basket that I had received when I wrote my original review above.<br /><br />By that I mean the gift basket that I received today was NOT the original one that I got, not the prototype above, but not even the same gift basket that I had received minus the wierdness, tackyness, and about a hundred other words that I could write to give a description of the FIRST nightmare of a gift basket that I had received.<br /><br />The only similarity from the original gift basket and then this second gift basket is that it's the same gift basket, but the one I received today is a darker color.  Everything else about it is the same as the first gift basket I received, the actual basket.<br /><br />There was a note taped to the outside of this gift basket showing that the orginal gift basket I received was a pre-production, prototype, mock-up that was never intended to be released to the general public.  I HOPE NOT!!!<br /><br />It never occured to me that any gift basket I would ever receive would not be the one that anyone else would have received.<br /><br />Obviously this company needs better quality control, because the one I originally received I never would have let it see the light of day, period.<br /><br />I was hoping that the gift basket that I received today would be the one I originally was supposed to receive to see how it really should have been, but the one I got today is an entirely different gift basket all together.<br /><br />The gift basket I received today was one entirely devoted to coffee, period.  It included:<br /><br />1.  A can of Ground Irish Coffee- 1.75 ounces. The brand is Bewley's Of Ireland, but on the back of the can it says Comfort Foods, Inc.  North Andover, MA.  I will be giving this coffee away.  I can't stand anything that is Irish Cream, no matter what it is.<br /><br />2.  3 packets of different ground coffees, each 1.3 ounces, in flavors of Breakfast Blend, Amaretto Royale, and Moca Java, from a company called Arbuckle's.  The city is Verona, PA.  Each packet of coffee is supposed to make about 10 cups of coffee depending on how strong you like it.<br /><br />3. A coffee mug that says a warm mug of Coffee, the best at igourment.com.  Your standard sized mug.  The writing is in a brown color, the mug itself is like an off white/beige color.  I will also be giving this mug away.  It's just not the kind of mug that I use either for coffee or tea.  The mug is ok, for what it is.<br /><br />4.  A small box that says Sugar in the raw, that has 6 packets.  I know I can buy this same brand in any grocery store.<br /><br />4.  A taller box that says Creamer for your coffee.  Inside that box is 10 packets of a generic looking non-dairy creamer.  I will also be giving this away as I don't use powdered creamer at all, but a liquid flavored creamer.<br /><br />5.A taller box that says Coffee Stirrers.  Inside that are 9 wooden coffee stirrers, like a thin popsicle stick. They aren't even plastic coffee stirrers!<br /><br />6.  A roll of King Original Peppermints which I assume is some kind of mints- 1.55 ounces.<br /><br />7.  A box of Caffe' Vergnano 1882 Biscoffee- 0.83 ounces.  I did receive this same thing in my first gift basket.  They taste like almond cookies.  The box says Product of Italy, but on the back of the box the state shown is PA.  Hardly Italy!<br /><br />8.  Several small packets of biscuit type cookies, to have with coffee.  About 6 of those total.<br /><br />In summary this gift basket was not the tacky, etc one like the first gift basket that I received, but I wouldn't call this one great either.  I wouldn't send this gift basket to anyone I know.  It doesn't look gourmet to me at all.<br /><br />The only things I will be keeping are the packets of coffee, the sugar in the raw, tho as a rule I don't use sugar period, and never in coffee.  I just use flavored liquid creamer in my coffee, and maybe the basket.  The rest I will be giving away.<br /><br />It's really hard to give an update since this second gift basket is not like the first one I received as far as the contents of the basket.<br /><br />I hate to say this, and I will leave it up to anyone who cares to read my review as to if they want to purchase either of these gift baskets or any others from this company, but I  don't like this company, period.<br /><br />They lack any imagination as far as the products/packaging they include in their gift baskets, which if I had to rate the gift baskets based soley on the contents of what was included in either gift basket, I would have to say the first gift basket I received had more variety than this second gift basket did.  I could see what the contents of the first gift basket would have contained, minus all of the wierd packaging that it had, tho some of the products of that one looked old, non-edible.  I threw most of that one away, period.  I didn't even give any of that gift basket away.<br /><br />My real question and my summary of this company is if it's named igourmet, where is the gourmet in their products?  Also, they are supposed to be products that are not from the U.S.A., but once again both gift baskets contained items only from the U.S.A.<br /><br />Most of what they include in their gift baskets, I could find either the same products or higher quality products than theirs in any grocery store.<br /><br />Like I said, it's hard to update a review if the gift baskets are entirely different, how can you compare them to post a review?  All I can do which is what I did in my first review, and that is to state what products were included in this second gift basket, and leave the rest of it up to any potential buyers out there who are considering purchasing a gift basket from this or any other company.<br /><br />I do appreciate getting a second gift basket, which after the first one I was kind of dreading what I would receive in this second gift basket, but this one too does NOT have any wow factor, or quality look to it.<br /><br />To me, especially if it were something like a gift basket it would not only be about the products included, which would be high quality products, but quality packaging too which I enjoy trying products from other companies, perhaps products I had never tried before, but to me it's not only about the items included in the gift basket, but the presentation too matters to me.  It shouldn't show cheap.<br /><br />Also, I don't understand how any company who specializes in gift baskets would include items that you could easily find in any grocery store, but their's is lower quality.<br /><br />How much thought goes into this companies gift baskets?  If I were a company who made gift baskets, I would want it to look like alot of thought went into what they included in their gift basket, from the items they include to their packaging, etc.  It's the total package that matters to me in the end.  I would want my gift baskets to be memorable, thoughtful and enjoyable.  With this company their gift baskets are forgettable, sadly.<br /><br />If I had to rate this second gift basket by how many stars I would give it, I would have to give it a 2, and that is being generous.<br /><br />Sorry, that is just how I see it!\n",
      "\n",
      "\n",
      "This review will make me sound really stupid, but whatever. I don't really care as long as people find out what's real and can avoid my mistakes.<br /><br />I got my wonderful little sweet Bella Bean when she was a few days shy of three years old. She had been bounced around from house to house and eating whatever was cheap. I have had cats around me my entire life, for about twenty-five years now. My mother always just fed them whatever, the kinds of food you buy in the supermarket - Friskies, Nine Lives, Kit & Kaboodle, stuff like that. And our cats were always fine, at least in terms of their eating habits. They would eat in the morning, stop when they were done, come back, and eat some more when they got hungry.<br /><br />My housemate at the time was working for Hill's and assured me that this was the best food ever made, so great, so on and so forth. I now know that she is an utter buffoon, but I initially trusted her judgment, which is so unfortunate because she doesn't think. She also had plenty of coupons for free or deeply discounted bags, which made it a much more attractive choice.<br /><br />I first tried feeding the little Bean an unmeasured amount of Science Diet in a bowl, but that didn't work, as she would devour it in one sitting. So then I took to measuring it, and she did the same thing. Then I started parsing it out to twice a day. That didn't work either, because she would start going crazy in the middle of the day, running around, intentionally destroying things, deliberately spilling her water, crying, etc., until she got more food. So then I split it into three servings. Same thing. Then it got to be four servings. That was a little better, but it was too much maintenance and unrealistic to be around every day to feed her four times. So then it went back to three. All the while, I was trying to reduce the amount of food I was feeding her to less than 3/4 of a cup because she was a little chubby. Reducing was hell. She became even more hungry, but I figured she would get used to it. Not really.<br /><br />For over a year, she would wake me up every morning looking for food in a serious way, knocking things off my desk, ripping up any paper she could find, scratching at the door and committing general acts of mischief. As soon as she got food, she was back to her sweet self, but only for three or four hours.<br /><br />We thought she was bored, we thought she was a little nutty, and maybe even had a kitty eating disorder. She always wanted food. It was kind of funny but in the end it was just sad.<br /><br />A few weeks back, we took her to a new (good, non-money factory) vet for her second checkup since I've had her. I talked with him about her being always hungry. He asked what she ate, and I told him the adult indoor Science Diet. Without saying as much, he basically told me that this food is garbage and I should look for something else. He said cat food should have a protein followed by a carbohydrate as the first two ingredients. Science Diet does, in a very loose, by-product kind of way - ground up slaughterhouse leftovers and corn dust. Then they put a bunch of vitamins in it to make it \"healthy,\" instead of just using good ingredients from the beginning. Not that I care about spending money on the Bean, but this food is way too expensive for what it is.<br /><br />So we began transitioning her onto Wellness indoor formula about two weeks ago. She is still eating 50 percent Science Diet with 50 percent Wellness (you really shouldn't just give a cat different food one day out of the blue) but SHE NEVER FREAKS OUT ANYMORE. It's amazing. And it's 100 percent because she is eating real food now, along with that sawdust and chicken hearts I still regrettable have to feed her. We have her down to eating twice a day, only 1/3 cup in TOTAL. She was eating three times a day, 5/8 of a cup in total. Now she eats some in the morning, walks away, eats some more a few hours later, and then looks for dinner about twelve hours after her initial feeding. No more knocking things over, no more trashing Dad's papers on the desk, no more howling, no more deliberately spilled water on the floor. It's incredible.<br /><br />I feel so bad that I was doing this to her for so long. We really thought she was just being dramatic or whatever. But no, she was genuinely hungry because she wasn't eating any real food.<br /><br />Do your cat a favor - buy her or him so food made with real ingredients, things you would eat - Wellness, Halo, Innova, Evo, whatever. Figure it out for yourself, but please don't feed your cat this. It's garbage.\n",
      "\n",
      "\n",
      "This review will make me sound really stupid, but whatever. I don't really care as long as people find out what's real and can avoid my mistakes.<br /><br />I got my wonderful little sweet Bella Bean when she was a few days shy of three years old. She had been bounced around from house to house and eating whatever was cheap. I have had cats around me my entire life, for about twenty-five years now. My mother always just fed them whatever, the kinds of food you buy in the supermarket - Friskies, Nine Lives, Kit & Kaboodle, stuff like that. And our cats were always fine, at least in terms of their eating habits. They would eat in the morning, stop when they were done, come back, and eat some more when they got hungry.<br /><br />My housemate at the time was working for Hill's and assured me that this was the best food ever made, so great, so on and so forth. I now know that she is an utter buffoon, but I initially trusted her judgment, which is so unfortunate because she doesn't think. She also had plenty of coupons for free or deeply discounted bags, which made it a much more attractive choice.<br /><br />I first tried feeding the little Bean an unmeasured amount of Science Diet in a bowl, but that didn't work, as she would devour it in one sitting. So then I took to measuring it, and she did the same thing. Then I started parsing it out to twice a day. That didn't work either, because she would start going crazy in the middle of the day, running around, intentionally destroying things, deliberately spilling her water, crying, etc., until she got more food. So then I split it into three servings. Same thing. Then it got to be four servings. That was a little better, but it was too much maintenance and unrealistic to be around every day to feed her four times. So then it went back to three. All the while, I was trying to reduce the amount of food I was feeding her to less than 3/4 of a cup because she was a little chubby. Reducing was hell. She became even more hungry, but I figured she would get used to it. Not really.<br /><br />For over a year, she would wake me up every morning looking for food in a serious way, knocking things off my desk, ripping up any paper she could find, scratching at the door and committing general acts of mischief. As soon as she got food, she was back to her sweet self, but only for three or four hours.<br /><br />We thought she was bored, we thought she was a little nutty, and maybe even had a kitty eating disorder. She always wanted food. It was kind of funny but in the end it was just sad.<br /><br />A few weeks back, we took her to a new (good, non-money factory) vet for her second checkup since I've had her. I talked with him about her being always hungry. He asked what she ate, and I told him the adult indoor Science Diet. Without saying as much, he basically told me that this food is garbage and I should look for something else. He said cat food should have a protein followed by a carbohydrate as the first two ingredients. Science Diet does, in a very loose, by-product kind of way - ground up slaughterhouse leftovers and corn dust. Then they put a bunch of vitamins in it to make it \"healthy,\" instead of just using good ingredients from the beginning. Not that I care about spending money on the Bean, but this food is way too expensive for what it is.<br /><br />So we began transitioning her onto Wellness indoor formula about two weeks ago. She is still eating 50 percent Science Diet with 50 percent Wellness (you really shouldn't just give a cat different food one day out of the blue) but SHE NEVER FREAKS OUT ANYMORE. It's amazing. And it's 100 percent because she is eating real food now, along with that sawdust and chicken hearts I still regrettable have to feed her. We have her down to eating twice a day, only 1/3 cup in TOTAL. She was eating three times a day, 5/8 of a cup in total. Now she eats some in the morning, walks away, eats some more a few hours later, and then looks for dinner about twelve hours after her initial feeding. No more knocking things over, no more trashing Dad's papers on the desk, no more howling, no more deliberately spilled water on the floor. It's incredible.<br /><br />I feel so bad that I was doing this to her for so long. We really thought she was just being dramatic or whatever. But no, she was genuinely hungry because she wasn't eating any real food.<br /><br />Do your cat a favor - buy her or him so food made with real ingredients, things you would eat - Wellness, Halo, Innova, Evo, whatever. Figure it out for yourself, but please don't feed your cat this. It's garbage.\n",
      "\n",
      "\n"
     ]
    }
   ],
   "source": [
    "print(\"\\n\\nLSI Topics \\n\\n\")\n",
    "display_topics(lsi_H, lsi_W, tf_feature_names, documents, no_top_words, no_top_documents)"
   ]
  },
  {
   "cell_type": "markdown",
   "id": "d5fe636a",
   "metadata": {},
   "source": [
    "### WordCloud"
   ]
  },
  {
   "cell_type": "code",
   "execution_count": 294,
   "id": "960cda95",
   "metadata": {},
   "outputs": [],
   "source": [
    "from wordcloud import WordCloud, STOPWORDS"
   ]
  },
  {
   "cell_type": "code",
   "execution_count": 55,
   "id": "48b0d15c",
   "metadata": {},
   "outputs": [],
   "source": [
    "plt.rcParams['font.size']=12                 \n",
    "plt.rcParams['savefig.dpi']=100             \n",
    "plt.rcParams['figure.subplot.bottom']=.1 "
   ]
  },
  {
   "cell_type": "code",
   "execution_count": 56,
   "id": "9d862716",
   "metadata": {},
   "outputs": [],
   "source": [
    "def print_cloud(data):\n",
    "    wordcloud = WordCloud(\n",
    "              background_color='white',\n",
    "              max_words=200,\n",
    "              max_font_size=40, \n",
    "              random_state=42\n",
    "             ).generate(str(data))\n",
    "    \n",
    "    return wordcloud"
   ]
  },
  {
   "cell_type": "code",
   "execution_count": 57,
   "id": "37e22c97",
   "metadata": {},
   "outputs": [
    {
     "data": {
      "image/png": "[encoded data removed]",
      "text/plain": [
       "<Figure size 432x288 with 1 Axes>"
      ]
     },
     "metadata": {
      "needs_background": "light"
     },
     "output_type": "display_data"
    }
   ],
   "source": [
    "wordcloud = print_cloud(df['Text'])\n",
    "fig = plt.figure(1)\n",
    "plt.imshow(wordcloud)\n",
    "plt.axis('off')\n",
    "plt.show()\n",
    "fig.savefig(\"word1.png\", dpi=900)"
   ]
  }
 ],
 "metadata": {
  "kernelspec": {
   "display_name": "Python 3 (ipykernel)",
   "language": "python",
   "name": "python3"
  },
  "language_info": {
   "codemirror_mode": {
    "name": "ipython",
    "version": 3
   },
   "file_extension": ".py",
   "mimetype": "text/x-python",
   "name": "python",
   "nbconvert_exporter": "python",
   "pygments_lexer": "ipython3",
   "version": "3.9.7"
  }
 },
 "nbformat": 4,
 "nbformat_minor": 5
}
